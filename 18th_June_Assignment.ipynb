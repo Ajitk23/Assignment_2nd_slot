{
 "cells": [
  {
   "cell_type": "markdown",
   "id": "d60ef8d9",
   "metadata": {},
   "source": [
    "# 1. What is the role of the 'else' block in a try-except statement? Provide an example scenario where it would be useful."
   ]
  },
  {
   "cell_type": "markdown",
   "id": "86a3c5ec",
   "metadata": {},
   "source": [
    "The else block in a try-except statement is optional and is executed only if no exceptions are raised in the try block. It \n",
    "allows you to specify a set of statements that should be executed when the try block runs successfully, without any exceptions \n",
    "being raised.\n",
    "\n",
    "The primary role of the else block is to separate the code that may raise exceptions from the code that should be executed when \n",
    "no exceptions occur. It helps improve the readability of the code and makes it clear which part of the code is meant to handle \n",
    "exceptions and which part should be executed under normal circumstances.\n",
    "\n",
    "Here's an example scenario where the else block can be useful:"
   ]
  },
  {
   "cell_type": "code",
   "execution_count": 1,
   "id": "9f1bdeeb",
   "metadata": {},
   "outputs": [
    {
     "name": "stdout",
     "output_type": "stream",
     "text": [
      "Enter a dividend: 3\n",
      "Enter a divisor: 0\n",
      "Error: Cannot divide by zero.\n"
     ]
    }
   ],
   "source": [
    "try:\n",
    "    num1 = int(input(\"Enter a dividend: \"))\n",
    "    num2 = int(input(\"Enter a divisor: \"))\n",
    "    result = num1 / num2\n",
    "except ZeroDivisionError:\n",
    "    print(\"Error: Cannot divide by zero.\")\n",
    "except ValueError:\n",
    "    print(\"Error: Invalid input. Please enter integers.\")\n",
    "else:\n",
    "    print(\"Division successful. Result:\", result)"
   ]
  },
  {
   "cell_type": "markdown",
   "id": "0513368c",
   "metadata": {},
   "source": [
    "# 2. Can a try-except block be nested inside another try-except block? Explain with an example."
   ]
  },
  {
   "cell_type": "markdown",
   "id": "379fa3f6",
   "metadata": {},
   "source": [
    "Yes, a try-except block can be nested inside another try-except block. This allows for handling exceptions at different \n",
    "levels of code execution and providing more granular error handling. \n",
    "\n",
    "Here's an example to illustrate this:"
   ]
  },
  {
   "cell_type": "code",
   "execution_count": 2,
   "id": "9bfd6212",
   "metadata": {},
   "outputs": [
    {
     "name": "stdout",
     "output_type": "stream",
     "text": [
      "Enter a dividend: 6\n",
      "Enter a divisor: 4\n",
      "Result: 1.5\n"
     ]
    }
   ],
   "source": [
    "try:\n",
    "    # Outer try-except block\n",
    "    try:\n",
    "        # Inner try-except block\n",
    "        num1 = int(input(\"Enter a dividend: \"))\n",
    "        num2 = int(input(\"Enter a divisor: \"))\n",
    "        result = num1 / num2\n",
    "        print(\"Result:\", result)\n",
    "    except ZeroDivisionError:\n",
    "        print(\"Error: Cannot divide by zero.\")\n",
    "    except ValueError:\n",
    "        print(\"Error: Invalid input. Please enter integers.\")\n",
    "except Exception as e:\n",
    "    print(\"An error occurred:\", str(e))"
   ]
  },
  {
   "cell_type": "markdown",
   "id": "54ec4caa",
   "metadata": {},
   "source": [
    "# 3. How can you create a custom exception class in Python? Provide an example that demonstrates its usage."
   ]
  },
  {
   "cell_type": "markdown",
   "id": "a9de9deb",
   "metadata": {},
   "source": [
    "In Python, we can create a custom exception class by defining a new class that inherits from the built-in Exception class or \n",
    "any of its subclasses. \n",
    "By creating a custom exception class, you can define your own exception types with specific behaviors and error messages. "
   ]
  },
  {
   "cell_type": "code",
   "execution_count": 3,
   "id": "c401d83f",
   "metadata": {},
   "outputs": [],
   "source": [
    "class CustomException(Exception):\n",
    "    def __init__(self, message):\n",
    "        self.message = message\n",
    "\n",
    "    def __str__(self):\n",
    "        return self.message"
   ]
  },
  {
   "cell_type": "markdown",
   "id": "54af7109",
   "metadata": {},
   "source": [
    "In this example, we define a custom exception class called CustomException that inherits from the base Exception class. \n",
    "We override two methods: __init__() and __str__()."
   ]
  },
  {
   "cell_type": "markdown",
   "id": "9da76204",
   "metadata": {},
   "source": [
    "# 4. What are some common exceptions that are built-in to Python?"
   ]
  },
  {
   "cell_type": "markdown",
   "id": "c9dcdeb8",
   "metadata": {},
   "source": [
    "Python provides several built-in exceptions that cover a wide range of common error conditions. Here are some commonly used built-in exceptions in Python:\n",
    "\n",
    "SyntaxError: Raised when there is a syntax error in the code.\n",
    "\n",
    "IndentationError: Raised when there is an indentation error, such as mixing tabs and spaces or incorrect indentation levels.\n",
    "\n",
    "NameError: Raised when a local or global name is not found.\n",
    "\n",
    "TypeError: Raised when an operation or function is applied to an object of inappropriate type.\n",
    "\n",
    "ValueError: Raised when a function receives an argument of the correct type but with an invalid value.\n",
    "\n",
    "KeyError: Raised when a dictionary key is not found.\n",
    "\n",
    "IndexError: Raised when a sequence index is out of range.\n",
    "\n",
    "FileNotFoundError: Raised when a file or directory is not found.\n",
    "\n",
    "IOError: Raised when an input/output operation fails.\n",
    "\n",
    "ZeroDivisionError: Raised when division or modulo operation is performed with zero as the divisor.\n",
    "\n",
    "AttributeError: Raised when an attribute reference or assignment fails.\n",
    "\n",
    "ImportError: Raised when an import statement fails to import a module.\n",
    "\n",
    "KeyboardInterrupt: Raised when the user interrupts the execution by pressing Ctrl+C.\n",
    "\n",
    "MemoryError: Raised when an operation runs out of memory."
   ]
  },
  {
   "cell_type": "markdown",
   "id": "f1adcdd9",
   "metadata": {},
   "source": [
    "# 5. What is logging in Python, and why is it important in software development?"
   ]
  },
  {
   "cell_type": "markdown",
   "id": "4d489eef",
   "metadata": {},
   "source": [
    "Logging in Python is a built-in module that provides a flexible and powerful way to record and display log messages from a \n",
    "program during its execution. It allows developers to generate log records at various levels of severity, such as informational \n",
    "messages, warnings, errors, and more. The logging module provides functionalities for capturing and storing log messages \n",
    "to different outputs, such as console, files, or external services.\n",
    "\n",
    "Logging is important in software development for several reasons:\n",
    "\n",
    "Debugging and Troubleshooting: Logging provides valuable information about the program's execution flow, variables' values, and \n",
    "    error messages. It helps in identifying and fixing bugs, as well as understanding the state of the program at different \n",
    "    stages of execution.\n",
    "\n",
    "Error Tracking and Monitoring: Logging allows developers to capture and record errors and exceptions that occur during program \n",
    "    execution. This information is crucial for identifying and tracking down issues in production systems. By logging error \n",
    "    messages with proper details, developers can analyze and debug issues more effectively.\n",
    "\n",
    "Auditing and Compliance: Logging helps in maintaining an audit trail by recording significant events or actions within the \n",
    "    program. This can be useful for compliance purposes, security monitoring, or tracking user activity.\n",
    "\n",
    "Performance Analysis: Logging can provide insights into the performance of an application by recording timestamps, execution \n",
    "    times, and other relevant metrics. This information can be used to identify performance bottlenecks and optimize critical \n",
    "    parts of the code.\n",
    "\n",
    "Application Monitoring: Logging can be integrated with monitoring systems to collect and analyze log data in real-time. This \n",
    "    enables proactive monitoring, alerting, and performance analysis of applications in production environments.\n",
    "\n",
    "By using logging effectively, developers can improve the maintainability, stability, and overall quality of their software. It \n",
    "allows for better understanding of program behavior, facilitates troubleshooting, and provides valuable insights into the \n",
    "system's performance and usage."
   ]
  },
  {
   "cell_type": "markdown",
   "id": "e9b52b5c",
   "metadata": {},
   "source": [
    "# 6. Explain the purpose of log levels in Python logging and provide examples of when each log level would be appropriate."
   ]
  },
  {
   "cell_type": "markdown",
   "id": "2b3f51c9",
   "metadata": {},
   "source": [
    "In Python logging, log levels are used to categorize log messages based on their severity or importance. The purpose of log \n",
    "levels is to allow developers to control the verbosity of the logging output and filter the messages based on their relevance. \n",
    "Python's logging module defines several built-in log levels, each representing a different level of severity. \n",
    "Here are the commonly used log levels and examples of when each level would be appropriate:\n",
    "\n",
    "DEBUG: The DEBUG level is used for detailed debugging information. It is typically used during development and should be \n",
    "    disabled in production environments. Example usage: Logging variable values, function calls, or detailed execution steps \n",
    "    for troubleshooting."
   ]
  },
  {
   "cell_type": "code",
   "execution_count": 5,
   "id": "f49911ca",
   "metadata": {},
   "outputs": [],
   "source": [
    "import logging\n",
    "\n",
    "logging.debug(\"This is a debug message.\")"
   ]
  },
  {
   "cell_type": "markdown",
   "id": "b1251460",
   "metadata": {},
   "source": [
    "INFO: The INFO level is used to provide general information about the program's execution. It gives a higher level of detail \n",
    "    than DEBUG but does not include purely debugging-related information. Example usage: Logging significant program \n",
    "    milestones, configuration details, or important events."
   ]
  },
  {
   "cell_type": "code",
   "execution_count": 6,
   "id": "9f7e8e85",
   "metadata": {},
   "outputs": [],
   "source": [
    "import logging\n",
    "\n",
    "logging.info(\"Application started successfully.\")"
   ]
  },
  {
   "cell_type": "markdown",
   "id": "c5dd7f22",
   "metadata": {},
   "source": [
    "WARNING: The WARNING level is used for non-critical issues or potential problems that may require attention. Example usage: \n",
    "         Logging deprecated function usage, non-fatal errors, or unexpected but recoverable situations."
   ]
  },
  {
   "cell_type": "code",
   "execution_count": 7,
   "id": "19386611",
   "metadata": {},
   "outputs": [
    {
     "name": "stderr",
     "output_type": "stream",
     "text": [
      "WARNING:root:A warning message: Something unexpected happened.\n"
     ]
    }
   ],
   "source": [
    "import logging\n",
    "\n",
    "logging.warning(\"A warning message: Something unexpected happened.\")"
   ]
  },
  {
   "cell_type": "markdown",
   "id": "99be21e5",
   "metadata": {},
   "source": [
    "ERROR: The ERROR level is used for errors that occur during program execution. These errors may impact the functionality of \n",
    "    the application but are not critical failures. Example usage: Logging exceptions, error conditions, or unexpected behaviors \n",
    "    that affect the normal execution flow."
   ]
  },
  {
   "cell_type": "code",
   "execution_count": 8,
   "id": "8ad6b06b",
   "metadata": {},
   "outputs": [],
   "source": [
    "import logging\n",
    "\n",
    "try:\n",
    "    # Some code that may raise an exception\n",
    "    pass\n",
    "except Exception as e:\n",
    "    logging.error(\"An error occurred: %s\", str(e))"
   ]
  },
  {
   "cell_type": "markdown",
   "id": "9bc75aed",
   "metadata": {},
   "source": [
    "CRITICAL: The CRITICAL level is used for critical errors or failures that may lead to the termination of the application or \n",
    "    have a severe impact. Example usage: Logging critical exceptions, unrecoverable errors, or situations where the application \n",
    "    cannot continue to function properly."
   ]
  },
  {
   "cell_type": "code",
   "execution_count": 9,
   "id": "02957153",
   "metadata": {},
   "outputs": [
    {
     "name": "stderr",
     "output_type": "stream",
     "text": [
      "CRITICAL:root:A critical error occurred. The application cannot continue.\n"
     ]
    }
   ],
   "source": [
    "import logging\n",
    "\n",
    "logging.critical(\"A critical error occurred. The application cannot continue.\")"
   ]
  },
  {
   "cell_type": "markdown",
   "id": "12ea9bb4",
   "metadata": {},
   "source": [
    "# 7. What are log formatters in Python logging, and how can you customise the log message format using formatters?"
   ]
  },
  {
   "cell_type": "markdown",
   "id": "ee4f70c7",
   "metadata": {},
   "source": [
    "In Python logging, log formatters are objects that define the format of log messages. They allow you to customize the log \n",
    "message structure and content. You can use the logging.Formatter class to create formatters. The format attribute defines the \n",
    "overall format of the log message using placeholders for elements like timestamp and log level. The datefmt attribute \n",
    "customizes the timestamp format. The formatMessage(record) method can be overridden for custom formatting logic.\n",
    "\n",
    "To customize the log message format:\n",
    "\n",
    "Create a formatter using logging.Formatter.\n",
    "\n",
    "Set the formatter on a handler using setFormatter().\n",
    "\n",
    "Add the handler to a logger using addHandler().\n",
    "\n",
    "Set the log level of the logger.\n",
    "\n",
    "Log messages using the logger, and the formatter will format them based on the specified format.\n",
    "\n",
    "Customizing the log message format helps structure the logs, include relevant information, and enhance readability."
   ]
  },
  {
   "cell_type": "markdown",
   "id": "5883d745",
   "metadata": {},
   "source": [
    "# 8. How can you set up logging to capture log messages from multiple modules or classes in a Python application?"
   ]
  },
  {
   "cell_type": "markdown",
   "id": "5c48a98c",
   "metadata": {},
   "source": [
    "To capture log messages from multiple modules or classes in a Python application:\n",
    "\n",
    "Import the logging module.\n",
    "\n",
    "Configure logging settings using basicConfig.\n",
    "\n",
    "Add loggers to modules or classes using getLogger(__name__).\n",
    "\n",
    "Log messages using the logger methods (debug(), info(), warning(), error(), etc.).\n",
    "\n",
    "The logger name identifies the source of each log message. Proper configuration and logger creation ensure capturing all \n",
    "desired logs."
   ]
  },
  {
   "cell_type": "markdown",
   "id": "cd24ee11",
   "metadata": {},
   "source": [
    "# 9. What is the difference between the logging and print statements in Python? When should you use logging over print statements in a real-world application?"
   ]
  },
  {
   "cell_type": "markdown",
   "id": "e1ee2467",
   "metadata": {},
   "source": [
    "Logging vs. print statements:\n",
    "\n",
    "Logging: Provides flexibility, log levels, formatting, and handlers. Ideal for production applications, debugging, and troubleshooting. Offers better control, customization, and long-term maintenance.\n",
    "\n",
    "Print statements: Basic output for simple scripts or debugging. Lacks features like log levels, filtering, and formatting. Limited control and less maintainable in complex applications.\n",
    "\n",
    "Choose logging over print statements in real-world applications for flexibility, control, debugging capabilities, and long-term maintainability."
   ]
  },
  {
   "cell_type": "markdown",
   "id": "d863a61c",
   "metadata": {},
   "source": [
    "# 10. Write a Python program that logs a message to a file named \"app.log\" with the following requirements:\n",
    "\n",
    "● The log message should be \"Hello, World!\"\n",
    "\n",
    "● The log level should be set to \"INFO.\"\n",
    "\n",
    "● The log file should append new log entries without overwriting previous ones."
   ]
  },
  {
   "cell_type": "code",
   "execution_count": 10,
   "id": "480c98fa",
   "metadata": {},
   "outputs": [
    {
     "name": "stderr",
     "output_type": "stream",
     "text": [
      "INFO:__main__:Hello, World!\n"
     ]
    }
   ],
   "source": [
    "import logging\n",
    "\n",
    "# Create a logger instance\n",
    "logger = logging.getLogger(__name__)\n",
    "\n",
    "# Set the log level to INFO\n",
    "logger.setLevel(logging.INFO)\n",
    "\n",
    "# Create a file handler and set its mode to append\n",
    "file_handler = logging.FileHandler('app.log', mode='a')\n",
    "\n",
    "# Create a formatter and set it for the file handler\n",
    "formatter = logging.Formatter('%(asctime)s - %(levelname)s - %(message)s')\n",
    "file_handler.setFormatter(formatter)\n",
    "\n",
    "# Add the file handler to the logger\n",
    "logger.addHandler(file_handler)\n",
    "\n",
    "# Log the message\n",
    "logger.info('Hello, World!')"
   ]
  },
  {
   "cell_type": "markdown",
   "id": "04731b59",
   "metadata": {},
   "source": [
    "# 11. Create a Python program that logs an error message to the console and a file named \"errors.log\" if an exception occurs  during the program's execution. The error message should include the exception type and a timestamp."
   ]
  },
  {
   "cell_type": "code",
   "execution_count": 13,
   "id": "a1804f48",
   "metadata": {},
   "outputs": [],
   "source": [
    "import logging\n",
    "\n",
    "# Configure logging to write to a file\n",
    "logging.basicConfig(filename='app.log', level=logging.INFO, filemode='a', format='%(asctime)s - %(levelname)s - %(message)s')\n",
    "\n",
    "# Log the message\n",
    "logging.info('Hello, World!')"
   ]
  }
 ],
 "metadata": {
  "kernelspec": {
   "display_name": "Python 3 (ipykernel)",
   "language": "python",
   "name": "python3"
  },
  "language_info": {
   "codemirror_mode": {
    "name": "ipython",
    "version": 3
   },
   "file_extension": ".py",
   "mimetype": "text/x-python",
   "name": "python",
   "nbconvert_exporter": "python",
   "pygments_lexer": "ipython3",
   "version": "3.10.9"
  }
 },
 "nbformat": 4,
 "nbformat_minor": 5
}
