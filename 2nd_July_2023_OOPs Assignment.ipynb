{
 "cells": [
  {
   "cell_type": "markdown",
   "id": "139040e4",
   "metadata": {},
   "source": [
    "# 1. Explain what inheritance is in object-oriented programming and why it is used."
   ]
  },
  {
   "cell_type": "markdown",
   "id": "f829577e",
   "metadata": {},
   "source": [
    "In object-oriented programming, inheritance lets a new class inherit attributes and methods from an existing class. In Python, it's used to create specialized classes by reusing code from a base class. \n",
    "Child classes can add their own features or override inherited ones. \n",
    "It promotes code reuse and hierarchy."
   ]
  },
  {
   "cell_type": "markdown",
   "id": "58ad9387",
   "metadata": {},
   "source": [
    "# 2. Discuss the concept of single inheritance and multiple inheritance, highlighting their differences and advantages."
   ]
  },
  {
   "cell_type": "markdown",
   "id": "a0e6a2db",
   "metadata": {},
   "source": [
    "Single Inheritance and Multiple Inheritance are two different approaches to class inheritance in object-oriented programming. They dictate how a class can inherit attributes and methods from one or more parent classes. \n",
    "\n",
    "Single Inheritance:\n",
    "\n",
    "*Inherits from one parent class only.\n",
    "\n",
    "*Simpler hierarchy and maintenance.\n",
    "\n",
    "*Lower risk of conflicts.\n",
    "\n",
    "*Clear linear relationship.\n",
    "\n",
    "\n",
    "Multiple Inheritance:\n",
    "\n",
    "*Inherits from multiple parent classes.\n",
    "\n",
    "*Enhanced code reuse and richer functionality.\n",
    "\n",
    "*Can model complex relationships.\n",
    "\n",
    "*Risk of conflicts and the \"diamond problem.\"\n",
    "\n",
    "*Method Resolution Order (MRO) determines method lookup order.\n",
    "\n",
    "\n",
    "Choosing:\n",
    "\n",
    "*Single inheritance for simplicity and straightforward relationships.\n",
    "\n",
    "*Multiple inheritance for combining diverse features or modeling complex relationships. \n",
    "\n",
    "*Consider complexity trade-offs."
   ]
  },
  {
   "cell_type": "markdown",
   "id": "88275ac4",
   "metadata": {},
   "source": [
    "# 3. Explain the terms \"base class\" and \"derived class\" in the context of inheritance."
   ]
  },
  {
   "cell_type": "markdown",
   "id": "98bf6449",
   "metadata": {},
   "source": [
    "In the context of inheritance, \"base class\" and \"derived class\" are fundamental terms that describe the relationship between classes in an object-oriented programming (OOP) hierarchy.\n",
    "\n",
    "Base Class:\n",
    "\n",
    "*Parent class.\n",
    "\n",
    "*Defines common attributes/methods.\n",
    "\n",
    "*Serves as a blueprint.\n",
    "\n",
    "*No inheritance from other classes.\n",
    "\n",
    "Derived Class:\n",
    "\n",
    "*Child class.\n",
    "\n",
    "*Inherits from a base class.\n",
    "\n",
    "*Specializes and extends functionality.\n",
    "\n",
    "*Can add new attributes/methods or override inherited ones.\n",
    "\n",
    "*\"Is-a\" relationship with the base class."
   ]
  },
  {
   "cell_type": "markdown",
   "id": "b36f3638",
   "metadata": {},
   "source": [
    "# 4. What is the significance of the \"protected\" access modifier in inheritance? How does it differ from \"private\" and \"public\" modifiers?"
   ]
  },
  {
   "cell_type": "markdown",
   "id": "f2fdbe57",
   "metadata": {},
   "source": [
    "In object-oriented programming, access modifiers like \"private,\" \"protected,\" and \"public\" control the visibility and accessibility of class members (attributes and methods) from outside the class. These modifiers play a crucial role in encapsulation, which is the concept of hiding the internal details of a class and providing controlled access to its members.\n",
    "\n",
    "Significance of \"Protected\" in Inheritance:\n",
    "The \"protected\" access modifier is significant in inheritance because it allows derived classes to access and use certain members of the base class, fostering code reusability while maintaining encapsulation.\n",
    "\n",
    "Here's a comparison of the three access modifiers in the context of inheritance:\n",
    "\n",
    "Public:\n",
    "\n",
    "Members are fully accessible by derived classes.\n",
    "Provides the least encapsulation and can expose sensitive details to subclasses.\n",
    "Private:\n",
    "\n",
    "Members are not accessible by derived classes.\n",
    "Provides strong encapsulation, ensuring that subclass behavior does not depend on base class internals.\n",
    "Protected:\n",
    "\n",
    "Members are accessible by derived classes.\n",
    "Allows derived classes to access base class functionality that is intended for extension.\n",
    "Balances encapsulation with code reusability in the context of inheritance."
   ]
  },
  {
   "cell_type": "markdown",
   "id": "c89ca07a",
   "metadata": {},
   "source": [
    "# 5. What is the purpose of the \"super\" keyword in inheritance? Provide an example."
   ]
  },
  {
   "cell_type": "markdown",
   "id": "0e08e65b",
   "metadata": {},
   "source": [
    "The \"super\" keyword in inheritance refers to the parent class. It's used to call methods and access attributes from the parent class within a child class. This helps in extending or overriding parent class behavior while still utilizing its features. In Python:"
   ]
  },
  {
   "cell_type": "code",
   "execution_count": 3,
   "id": "6d0f72ec",
   "metadata": {},
   "outputs": [
    {
     "name": "stdout",
     "output_type": "stream",
     "text": [
      "Parent's value: 10\n",
      "Child's extra value: 20\n"
     ]
    }
   ],
   "source": [
    "class Parent:\n",
    "    def __init__(self, value):\n",
    "        self.value = value\n",
    "\n",
    "    def show(self):\n",
    "        print(\"Parent's value:\", self.value)\n",
    "\n",
    "class Child(Parent):\n",
    "    def __init__(self, value, extra_value):\n",
    "        super().__init__(value)  # Calling the parent class constructor\n",
    "        self.extra_value = extra_value\n",
    "\n",
    "    def show(self):\n",
    "        super().show()  # Calling the parent class's show method\n",
    "        print(\"Child's extra value:\", self.extra_value)\n",
    "\n",
    "child = Child(10, 20)\n",
    "child.show()"
   ]
  },
  {
   "cell_type": "markdown",
   "id": "07af9735",
   "metadata": {},
   "source": [
    "# 6. Create a base class called \"Vehicle\" with attributes like \"make\", \"model\", and \"year\". Then, create a derived class called \"Car\" that inherits from \"Vehicle\" and adds an attribute called \"fuel_type\". Implement appropriate methods in both classes."
   ]
  },
  {
   "cell_type": "code",
   "execution_count": 4,
   "id": "f87f38cd",
   "metadata": {},
   "outputs": [
    {
     "name": "stdout",
     "output_type": "stream",
     "text": [
      "Make: Toyota, Model: Corolla, Year: 2022\n",
      "Fuel Type: Gasoline\n",
      "Make: Tesla, Model: Model 3, Year: 2023\n",
      "Fuel Type: Electric\n"
     ]
    }
   ],
   "source": [
    "class Vehicle:\n",
    "    def __init__(self, make, model, year):\n",
    "        self.make = make\n",
    "        self.model = model\n",
    "        self.year = year\n",
    "\n",
    "    def display_info(self):\n",
    "        print(f\"Make: {self.make}, Model: {self.model}, Year: {self.year}\")\n",
    "\n",
    "class Car(Vehicle):\n",
    "    def __init__(self, make, model, year, fuel_type):\n",
    "        super().__init__(make, model, year)\n",
    "        self.fuel_type = fuel_type\n",
    "\n",
    "    def display_info(self):\n",
    "        super().display_info()\n",
    "        print(f\"Fuel Type: {self.fuel_type}\")\n",
    "\n",
    "# Creating instances of the Car class\n",
    "car1 = Car(\"Toyota\", \"Corolla\", 2022, \"Gasoline\")\n",
    "car2 = Car(\"Tesla\", \"Model 3\", 2023, \"Electric\")\n",
    "\n",
    "\n",
    "\n",
    "# Displaying information about the cars\n",
    "car1.display_info()\n",
    "car2.display_info()\n"
   ]
  },
  {
   "cell_type": "markdown",
   "id": "6996feb3",
   "metadata": {},
   "source": [
    "# 7. Create a base class called \"Employee\" with attributes like \"name\" and \"salary.\" Derive two classes, \"Manager\" and \"Developer,\" from \"Employee.\" Add an additional attribute called \"department\" for the \"Manager\" class and \"programming_language\" for the \"Developer\" class."
   ]
  },
  {
   "cell_type": "code",
   "execution_count": 5,
   "id": "19efc6c8",
   "metadata": {},
   "outputs": [
    {
     "name": "stdout",
     "output_type": "stream",
     "text": [
      "Name: John, Salary: 80000\n",
      "Department: Operations\n",
      "Name: Alice, Salary: 70000\n",
      "Programming Language: Python\n"
     ]
    }
   ],
   "source": [
    "class Employee:\n",
    "    def __init__(self, name, salary):\n",
    "        self.name = name\n",
    "        self.salary = salary\n",
    "\n",
    "    def display_info(self):\n",
    "        print(f\"Name: {self.name}, Salary: {self.salary}\")\n",
    "\n",
    "class Manager(Employee):\n",
    "    def __init__(self, name, salary, department):\n",
    "        super().__init__(name, salary)\n",
    "        self.department = department\n",
    "\n",
    "    def display_info(self):\n",
    "        super().display_info()\n",
    "        print(f\"Department: {self.department}\")\n",
    "\n",
    "class Developer(Employee):\n",
    "    def __init__(self, name, salary, programming_language):\n",
    "        super().__init__(name, salary)\n",
    "        self.programming_language = programming_language\n",
    "\n",
    "    def display_info(self):\n",
    "        super().display_info()\n",
    "        print(f\"Programming Language: {self.programming_language}\")\n",
    "\n",
    "manager = Manager(\"John\", 80000, \"Operations\")\n",
    "developer = Developer(\"Alice\", 70000, \"Python\")\n",
    "\n",
    "\n",
    "manager.display_info()\n",
    "developer.display_info()\n"
   ]
  },
  {
   "cell_type": "markdown",
   "id": "503dcc26",
   "metadata": {},
   "source": [
    "# 8. Design a base class called \"Shape\" with attributes like \"colour\" and \"border_width.\" Create derived classes, \"Rectangle\" and \"Circle,\" that inherit from \"Shape\" and add specific attributes like \"length\" and \"width\" for the \"Rectangle\" class and \"radius\" for the \"Circle\" class."
   ]
  },
  {
   "cell_type": "code",
   "execution_count": 6,
   "id": "b471e645",
   "metadata": {},
   "outputs": [
    {
     "name": "stdout",
     "output_type": "stream",
     "text": [
      "Colour: Blue, Border Width: 2\n",
      "Length: 10, Width: 5\n",
      "Colour: Red, Border Width: 1\n",
      "Radius: 7\n"
     ]
    }
   ],
   "source": [
    "class Shape:\n",
    "    def __init__(self, colour, border_width):\n",
    "        self.colour = colour\n",
    "        self.border_width = border_width\n",
    "\n",
    "    def display_info(self):\n",
    "        print(f\"Colour: {self.colour}, Border Width: {self.border_width}\")\n",
    "\n",
    "class Rectangle(Shape):\n",
    "    def __init__(self, colour, border_width, length, width):\n",
    "        super().__init__(colour, border_width)\n",
    "        self.length = length\n",
    "        self.width = width\n",
    "\n",
    "    def display_info(self):\n",
    "        super().display_info()\n",
    "        print(f\"Length: {self.length}, Width: {self.width}\")\n",
    "\n",
    "class Circle(Shape):\n",
    "    def __init__(self, colour, border_width, radius):\n",
    "        super().__init__(colour, border_width)\n",
    "        self.radius = radius\n",
    "\n",
    "    def display_info(self):\n",
    "        super().display_info()\n",
    "        print(f\"Radius: {self.radius}\")\n",
    "\n",
    "\n",
    "rectangle = Rectangle(\"Blue\", 2, 10, 5)\n",
    "circle = Circle(\"Red\", 1, 7)\n",
    "\n",
    "\n",
    "rectangle.display_info()\n",
    "circle.display_info()\n"
   ]
  },
  {
   "cell_type": "markdown",
   "id": "9e50a6b7",
   "metadata": {},
   "source": [
    "# 9. Create a base class called \"Device\" with attributes like \"brand\" and \"model.\" Derive two classes, \"Phone\" and \"Tablet,\" from \"Device.\" Add specific attributes like \"screen_size\" for the \"Phone\" class and \"battery_capacity\" for the \"Tablet\" class."
   ]
  },
  {
   "cell_type": "code",
   "execution_count": 8,
   "id": "c6977715",
   "metadata": {},
   "outputs": [
    {
     "name": "stdout",
     "output_type": "stream",
     "text": [
      "Brand: Apple, Model: iPhone 14 pro max\n",
      "Screen Size: 6.2 inches\n",
      "Brand: Samsung, Model: Ultra s23\n",
      "Battery Capacity: 4000 mAh\n"
     ]
    }
   ],
   "source": [
    "class Device:\n",
    "    def __init__(self, brand, model):\n",
    "        self.brand = brand\n",
    "        self.model = model\n",
    "\n",
    "    def display_info(self):\n",
    "        print(f\"Brand: {self.brand}, Model: {self.model}\")\n",
    "\n",
    "class Phone(Device):\n",
    "    def __init__(self, brand, model, screen_size):\n",
    "        super().__init__(brand, model)\n",
    "        self.screen_size = screen_size\n",
    "\n",
    "    def display_info(self):\n",
    "        super().display_info()\n",
    "        print(f\"Screen Size: {self.screen_size}\")\n",
    "\n",
    "class Tablet(Device):\n",
    "    def __init__(self, brand, model, battery_capacity):\n",
    "        super().__init__(brand, model)\n",
    "        self.battery_capacity = battery_capacity\n",
    "\n",
    "    def display_info(self):\n",
    "        super().display_info()\n",
    "        print(f\"Battery Capacity: {self.battery_capacity}\")\n",
    "\n",
    "phone = Phone(\"Apple\", \"iPhone 14 pro max\", \"6.2 inches\")\n",
    "tablet = Tablet(\"Samsung\", \"Ultra s23\", \"4000 mAh\")\n",
    "\n",
    "\n",
    "phone.display_info()\n",
    "tablet.display_info()\n"
   ]
  },
  {
   "cell_type": "markdown",
   "id": "b132a8fb",
   "metadata": {},
   "source": [
    "# 10. Create a base class called \"BankAccount\" with attributes like \"account_number\" and \"balance.\" Derive two classes, \"SavingsAccount\" and \"CheckingAccount,\" from \"BankAccount.\" Add specific methods like \"calculate_interest\" for the \"SavingsAccount\" class and \"deduct_fees\" for the \"CheckingAccount\" class."
   ]
  },
  {
   "cell_type": "code",
   "execution_count": 9,
   "id": "e37a116a",
   "metadata": {},
   "outputs": [
    {
     "name": "stdout",
     "output_type": "stream",
     "text": [
      "Account Number: 123456789, Balance: 1000.00\n",
      "Interest Earned: 30.00\n",
      "Account Number: 123456789, Balance: 1030.00\n",
      "Account Number: 987654321, Balance: 1500.00\n",
      "Fees Deducted: 10.00\n",
      "Account Number: 987654321, Balance: 1490.00\n"
     ]
    }
   ],
   "source": [
    "class BankAccount:\n",
    "    def __init__(self, account_number, balance):\n",
    "        self.account_number = account_number\n",
    "        self.balance = balance\n",
    "\n",
    "    def display_info(self):\n",
    "        print(f\"Account Number: {self.account_number}, Balance: {self.balance:.2f}\")\n",
    "\n",
    "class SavingsAccount(BankAccount):\n",
    "    def __init__(self, account_number, balance, interest_rate):\n",
    "        super().__init__(account_number, balance)\n",
    "        self.interest_rate = interest_rate\n",
    "\n",
    "    def calculate_interest(self):\n",
    "        interest = self.balance * self.interest_rate\n",
    "        self.balance += interest\n",
    "        print(f\"Interest Earned: {interest:.2f}\")\n",
    "\n",
    "class CheckingAccount(BankAccount):\n",
    "    def __init__(self, account_number, balance, fee_amount):\n",
    "        super().__init__(account_number, balance)\n",
    "        self.fee_amount = fee_amount\n",
    "\n",
    "    def deduct_fees(self):\n",
    "        self.balance -= self.fee_amount\n",
    "        print(f\"Fees Deducted: {self.fee_amount:.2f}\")\n",
    "\n",
    "        \n",
    "savings_account = SavingsAccount(\"123456789\", 1000, 0.03)\n",
    "checking_account = CheckingAccount(\"987654321\", 1500, 10)\n",
    "\n",
    "savings_account.display_info()\n",
    "savings_account.calculate_interest()\n",
    "savings_account.display_info()\n",
    "\n",
    "checking_account.display_info()\n",
    "checking_account.deduct_fees()\n",
    "checking_account.display_info()\n"
   ]
  }
 ],
 "metadata": {
  "kernelspec": {
   "display_name": "Python 3 (ipykernel)",
   "language": "python",
   "name": "python3"
  },
  "language_info": {
   "codemirror_mode": {
    "name": "ipython",
    "version": 3
   },
   "file_extension": ".py",
   "mimetype": "text/x-python",
   "name": "python",
   "nbconvert_exporter": "python",
   "pygments_lexer": "ipython3",
   "version": "3.10.9"
  }
 },
 "nbformat": 4,
 "nbformat_minor": 5
}
