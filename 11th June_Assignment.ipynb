{
 "cells": [
  {
   "cell_type": "markdown",
   "id": "7aa4e064",
   "metadata": {},
   "source": [
    "# 1. What is a lambda function in Python, and how does it differ from a regular function?"
   ]
  },
  {
   "cell_type": "markdown",
   "id": "516c2607",
   "metadata": {},
   "source": [
    "In Python, a lambda function, also known as an anonymous function, is a small and anonymous function that is defined without \n",
    "a name. It is created using the lambda keyword, followed by a list of arguments, a colon (:), and an expression. The result of \n",
    "the expression is the value returned by the lambda function."
   ]
  },
  {
   "cell_type": "code",
   "execution_count": 1,
   "id": "421e72dd",
   "metadata": {},
   "outputs": [
    {
     "name": "stdout",
     "output_type": "stream",
     "text": [
      "25\n",
      "25\n"
     ]
    }
   ],
   "source": [
    "# Regular function\n",
    "def square(x):\n",
    "    return x ** 2\n",
    "\n",
    "print(square(5))  # Output: 25\n",
    "\n",
    "# Lambda function\n",
    "square_lambda = lambda x: x ** 2\n",
    "\n",
    "print(square_lambda(5))  # Output: 25"
   ]
  },
  {
   "cell_type": "markdown",
   "id": "fa08d5a9",
   "metadata": {},
   "source": [
    "# 2. Can a lambda function in Python have multiple arguments? If yes, how can you define and use them?"
   ]
  },
  {
   "cell_type": "markdown",
   "id": "22a2d9a7",
   "metadata": {},
   "source": [
    "Yes, a lambda function in Python can have multiple arguments. You can define multiple arguments in a lambda function by \n",
    "separating them with commas within the argument list. The syntax for defining a lambda function with multiple arguments is as \n",
    "follows:"
   ]
  },
  {
   "cell_type": "code",
   "execution_count": 3,
   "id": "f9e532d2",
   "metadata": {},
   "outputs": [
    {
     "name": "stdout",
     "output_type": "stream",
     "text": [
      "7\n"
     ]
    }
   ],
   "source": [
    "addition = lambda x, y: x + y\n",
    "print(addition(2, 5))  # Output: 8"
   ]
  },
  {
   "cell_type": "markdown",
   "id": "4166e7f8",
   "metadata": {},
   "source": [
    "In this example, the lambda function addition takes two arguments x and y and returns their sum. The lambda function is then \n",
    "called with arguments 3 and 5, resulting in the output 8.\n",
    "\n",
    "You can add as many arguments as needed by separating them with commas in the lambda function definition. However, it's \n",
    "important to note that lambda functions are generally used for simple and concise operations. If you find yourself needing \n",
    "complex logic or multiple statements, it's better to use a regular function instead."
   ]
  },
  {
   "cell_type": "markdown",
   "id": "718714cf",
   "metadata": {},
   "source": [
    "# 3. How are lambda functions typically used in Python? Provide an example use case."
   ]
  },
  {
   "cell_type": "markdown",
   "id": "7bb8123f",
   "metadata": {},
   "source": [
    "Lambda functions are typically used in Python in situations where you need a small, one-time function and don't want to \n",
    "define a separate named function. They are commonly used in combination with built-in functions like map(), filter(), and \n",
    "reduce(), which expect a function as one of their arguments.\n",
    "\n",
    "Here's an example use case where a lambda function can be useful:"
   ]
  },
  {
   "cell_type": "code",
   "execution_count": 4,
   "id": "b8610598",
   "metadata": {},
   "outputs": [
    {
     "name": "stdout",
     "output_type": "stream",
     "text": [
      "[1, 4, 9, 16, 25]\n"
     ]
    }
   ],
   "source": [
    "# Example: Squaring a list of numbers using map() and lambda\n",
    "\n",
    "numbers = [1, 2, 3, 4, 5]\n",
    "\n",
    "squared_numbers = list(map(lambda x: x ** 2, numbers))\n",
    "\n",
    "print(squared_numbers)  # Output: [1, 4, 9, 16, 25]"
   ]
  },
  {
   "cell_type": "markdown",
   "id": "7142b760",
   "metadata": {},
   "source": [
    "# 4. What are the advantages and limitations of lambda functions compared to regular functions in Python?"
   ]
  },
  {
   "cell_type": "markdown",
   "id": "913e1853",
   "metadata": {},
   "source": [
    "Lambda functions in Python have some advantages and limitations compared to regular functions:\n",
    "\n",
    "Advantages of Lambda Functions:\n",
    "\n",
    "Conciseness: Lambda functions allow you to write small and simple functions in a more compact manner. They are particularly \n",
    "    useful for short and one-time operations, eliminating the need to define a separate named function.\n",
    "\n",
    "Readability: Lambda functions can often make code more readable and expressive, especially when used in combination with \n",
    "    built-in functions like map(), filter(), or sorted(). They allow you to define a function right at the point of use, \n",
    "    providing a clear and concise representation of the operation.\n",
    "\n",
    "Functional Programming: Lambda functions align well with the principles of functional programming. They can be used in \n",
    "    functional programming paradigms, such as passing functions as arguments or using them in higher-order functions.\n",
    "\n",
    "Limitations of Lambda Functions:\n",
    "\n",
    "Single Expression: Lambda functions are limited to a single expression, which means they cannot contain multiple statements or \n",
    "    complex logic. They are best suited for simple computations that can be expressed in a single expression.\n",
    "\n",
    "Lack of Name: Lambda functions are anonymous functions, meaning they don't have a name. This can make them harder to debug \n",
    "    and test since you can't directly refer to them by name. However, you can assign a lambda function to a variable if you \n",
    "    need to refer to it multiple times.\n",
    "\n",
    "Limited Functionality: Due to their simplicity, lambda functions cannot have features like default arguments, variable \n",
    "    annotations, or complex error handling. They are designed for short and specific operations and are not suitable for more \n",
    "    complex scenarios.\n",
    "\n",
    "Readability Concerns: While lambda functions can make code more concise, they can also make it less readable if overused or \n",
    "    used inappropriately. Complex or lengthy lambda functions can be difficult to understand, leading to reduced code \n",
    "    maintainability.\n",
    "\n",
    "In summary, lambda functions provide a compact and convenient way to define small functions inline. They excel at simplicity \n",
    "and expressiveness for one-time operations. However, for more complex or reusable functions, regular named functions offer \n",
    "better readability, reusability, and maintainability."
   ]
  },
  {
   "cell_type": "markdown",
   "id": "043bb987",
   "metadata": {},
   "source": [
    "# 5. Are lambda functions in Python able to access variables defined outside of their own scope? Explain with an example."
   ]
  },
  {
   "cell_type": "markdown",
   "id": "7e434391",
   "metadata": {},
   "source": [
    "Yes, lambda functions in Python can access variables defined outside of their own scope. This behavior is known as lexical \n",
    "scoping or closure. When a lambda function is defined, it retains access to the variables in the enclosing scope, even if they \n",
    "are not explicitly passed as arguments.\n",
    "\n",
    "Here's an example to demonstrate how lambda functions can access variables from their outer scope:"
   ]
  },
  {
   "cell_type": "code",
   "execution_count": 7,
   "id": "69689076",
   "metadata": {},
   "outputs": [
    {
     "name": "stdout",
     "output_type": "stream",
     "text": [
      "10\n",
      "15\n"
     ]
    }
   ],
   "source": [
    "def multiply_by(factor):\n",
    "    return lambda x: x * factor\n",
    "\n",
    "multiply_by_2 = multiply_by(2)\n",
    "multiply_by_3 = multiply_by(3)\n",
    "\n",
    "print(multiply_by_2(5))  # Output: 10\n",
    "print(multiply_by_3(5))  # Output: 15"
   ]
  },
  {
   "cell_type": "markdown",
   "id": "27a60a23",
   "metadata": {},
   "source": [
    "# 6. Write a lambda function to calculate the square of a given number."
   ]
  },
  {
   "cell_type": "code",
   "execution_count": 8,
   "id": "8caf0088",
   "metadata": {},
   "outputs": [
    {
     "name": "stdout",
     "output_type": "stream",
     "text": [
      "9\n"
     ]
    }
   ],
   "source": [
    "square_of_nummber = lambda x: x**2\n",
    "print(square_of_nummber(3))"
   ]
  },
  {
   "cell_type": "markdown",
   "id": "265c3f0c",
   "metadata": {},
   "source": [
    "# 7. Create a lambda function to find the maximum value in a list of integers."
   ]
  },
  {
   "cell_type": "code",
   "execution_count": 9,
   "id": "7c1339c4",
   "metadata": {},
   "outputs": [
    {
     "name": "stdout",
     "output_type": "stream",
     "text": [
      "10\n"
     ]
    }
   ],
   "source": [
    "numbers = [5, 8, 2, 10, 3, 6]\n",
    "\n",
    "max_value = lambda lst: max(lst)\n",
    "\n",
    "print(max_value(numbers))  # Output: 10"
   ]
  },
  {
   "cell_type": "markdown",
   "id": "f4264062",
   "metadata": {},
   "source": [
    "# 8. Implement a lambda function to filter out all the even numbers from a list of integers."
   ]
  },
  {
   "cell_type": "code",
   "execution_count": 11,
   "id": "33abfdcd",
   "metadata": {},
   "outputs": [
    {
     "name": "stdout",
     "output_type": "stream",
     "text": [
      "[2, 4, 6, 8, 10]\n"
     ]
    }
   ],
   "source": [
    "numbers = [1, 2, 3, 4, 5, 6, 7, 8, 9, 10]\n",
    "\n",
    "even_numbers = list(filter(lambda x: x % 2 == 0, numbers))\n",
    "\n",
    "print(even_numbers)"
   ]
  },
  {
   "cell_type": "markdown",
   "id": "762b120a",
   "metadata": {},
   "source": [
    "# 9. Write a lambda function to sort a list of strings in ascending order based on the length of each string."
   ]
  },
  {
   "cell_type": "code",
   "execution_count": 12,
   "id": "6f6f28f8",
   "metadata": {},
   "outputs": [
    {
     "name": "stdout",
     "output_type": "stream",
     "text": [
      "['date', 'apple', 'banana', 'cherry', 'elderberry']\n"
     ]
    }
   ],
   "source": [
    "strings = [\"apple\", \"banana\", \"cherry\", \"date\", \"elderberry\"]\n",
    "\n",
    "sorted_strings = sorted(strings, key=lambda x: len(x))\n",
    "\n",
    "print(sorted_strings)"
   ]
  },
  {
   "cell_type": "markdown",
   "id": "7fae23d2",
   "metadata": {},
   "source": [
    "# 10. Create a lambda function that takes two lists as input and returns a new list containing the common elements between the two lists."
   ]
  },
  {
   "cell_type": "code",
   "execution_count": 13,
   "id": "d12b92b5",
   "metadata": {},
   "outputs": [
    {
     "name": "stdout",
     "output_type": "stream",
     "text": [
      "[4, 5]\n"
     ]
    }
   ],
   "source": [
    "list1 = [1, 2, 3, 4, 5]\n",
    "list2 = [4, 5, 6, 7, 8]\n",
    "\n",
    "common_elements = list(filter(lambda x: x in list2, list1))\n",
    "\n",
    "print(common_elements)"
   ]
  },
  {
   "cell_type": "markdown",
   "id": "c6784f05",
   "metadata": {},
   "source": [
    "# 11. Write a recursive function to calculate the factorial of a given positive integer."
   ]
  },
  {
   "cell_type": "code",
   "execution_count": 14,
   "id": "8639f794",
   "metadata": {},
   "outputs": [
    {
     "name": "stdout",
     "output_type": "stream",
     "text": [
      "The factorial of 5 is: 120\n"
     ]
    }
   ],
   "source": [
    "def factorial(n):\n",
    "    if n == 0:\n",
    "        return 1\n",
    "    else:\n",
    "        return n * factorial(n - 1)\n",
    "\n",
    "# Test the factorial function\n",
    "num = 5\n",
    "result = factorial(num)\n",
    "print(f\"The factorial of {num} is: {result}\") \n"
   ]
  },
  {
   "cell_type": "markdown",
   "id": "c6200bfa",
   "metadata": {},
   "source": [
    "# 12. Implement a recursive function to compute the nth Fibonacci number."
   ]
  },
  {
   "cell_type": "code",
   "execution_count": 15,
   "id": "b72d8b0b",
   "metadata": {},
   "outputs": [
    {
     "name": "stdout",
     "output_type": "stream",
     "text": [
      "The 6th Fibonacci number is: 8\n"
     ]
    }
   ],
   "source": [
    "def fibonacci(n):\n",
    "    if n <= 0:\n",
    "        raise ValueError(\"n must be a positive integer.\")\n",
    "    elif n == 1 or n == 2:\n",
    "        return 1\n",
    "    else:\n",
    "        return fibonacci(n - 1) + fibonacci(n - 2)\n",
    "\n",
    "# Test the fibonacci function\n",
    "num = 6\n",
    "result = fibonacci(num)\n",
    "print(f\"The {num}th Fibonacci number is: {result}\")"
   ]
  },
  {
   "cell_type": "markdown",
   "id": "dd3af1d6",
   "metadata": {},
   "source": [
    "# 13. Create a recursive function to find the sum of all the elements in a given list."
   ]
  },
  {
   "cell_type": "code",
   "execution_count": 16,
   "id": "7741977f",
   "metadata": {},
   "outputs": [
    {
     "name": "stdout",
     "output_type": "stream",
     "text": [
      "The sum of the list is: 15\n"
     ]
    }
   ],
   "source": [
    "def sum_list(lst):\n",
    "    if not lst:\n",
    "        return 0\n",
    "    else:\n",
    "        return lst[0] + sum_list(lst[1:])\n",
    "\n",
    "# Test the sum_list function\n",
    "numbers = [1, 2, 3, 4, 5]\n",
    "result = sum_list(numbers)\n",
    "print(f\"The sum of the list is: {result}\")\n"
   ]
  },
  {
   "cell_type": "markdown",
   "id": "a7d80e34",
   "metadata": {},
   "source": [
    "# 14. Write a recursive function to determine whether a given string is a palindrome."
   ]
  },
  {
   "cell_type": "code",
   "execution_count": 17,
   "id": "54287960",
   "metadata": {},
   "outputs": [
    {
     "name": "stdout",
     "output_type": "stream",
     "text": [
      "radar is a palindrome: True\n",
      "hello is a palindrome: False\n"
     ]
    }
   ],
   "source": [
    "def is_palindrome(s):\n",
    "    if len(s) <= 1:\n",
    "        return True\n",
    "    elif s[0] != s[-1]:\n",
    "        return False\n",
    "    else:\n",
    "        return is_palindrome(s[1:-1])\n",
    "\n",
    "# Test the is_palindrome function\n",
    "string1 = \"radar\"\n",
    "print(f\"{string1} is a palindrome: {is_palindrome(string1)}\")\n",
    "\n",
    "string2 = \"hello\"\n",
    "print(f\"{string2} is a palindrome: {is_palindrome(string2)}\")"
   ]
  },
  {
   "cell_type": "markdown",
   "id": "ea5985ad",
   "metadata": {},
   "source": [
    "# 15. Implement a recursive function to find the greatest common divisor (GCD) of two positive integers."
   ]
  },
  {
   "cell_type": "code",
   "execution_count": 18,
   "id": "ffcc4dca",
   "metadata": {},
   "outputs": [
    {
     "name": "stdout",
     "output_type": "stream",
     "text": [
      "The GCD of 24 and 36 is: 12\n"
     ]
    }
   ],
   "source": [
    "def gcd(a, b):\n",
    "    if b == 0:\n",
    "        return a\n",
    "    else:\n",
    "        return gcd(b, a % b)\n",
    "\n",
    "# Test the gcd function\n",
    "num1 = 24\n",
    "num2 = 36\n",
    "result = gcd(num1, num2)\n",
    "print(f\"The GCD of {num1} and {num2} is: {result}\")"
   ]
  }
 ],
 "metadata": {
  "kernelspec": {
   "display_name": "Python 3 (ipykernel)",
   "language": "python",
   "name": "python3"
  },
  "language_info": {
   "codemirror_mode": {
    "name": "ipython",
    "version": 3
   },
   "file_extension": ".py",
   "mimetype": "text/x-python",
   "name": "python",
   "nbconvert_exporter": "python",
   "pygments_lexer": "ipython3",
   "version": "3.10.9"
  }
 },
 "nbformat": 4,
 "nbformat_minor": 5
}
