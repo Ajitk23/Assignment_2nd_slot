{
 "cells": [
  {
   "cell_type": "markdown",
   "id": "96affb94",
   "metadata": {},
   "source": [
    "# 1. What is the primary goal of Object-Oriented Programming (OOP)?"
   ]
  },
  {
   "cell_type": "markdown",
   "id": "78fbd46a",
   "metadata": {},
   "source": [
    "The primary goal of Object-Oriented Programming (OOP) is to model real-world entities and their interactions within a software system by organizing code into objects. OOP is a programming paradigm that emphasizes the use of objects, which are instances of classes, to represent data and behavior. Here are the key objectives or goals of OOP:\n",
    "\n",
    "Modularity: OOP promotes modularity by breaking down complex problems into smaller, manageable units called objects. Each object encapsulates its own state (data) and behavior (methods), making it easier to understand and maintain the codebase.\n",
    "\n",
    "Encapsulation: Encapsulation is the concept of bundling data and methods that operate on that data within a single unit (the object). It allows the internal workings of an object to be hidden from the outside world, providing a clear interface for interacting with the object. This enhances data security and reduces the risk of unintended side effects.\n",
    "\n",
    "Abstraction: Abstraction allows you to create simplified representations of real-world objects in your code. It focuses on essential characteristics while hiding unnecessary details, making the code more intuitive and easier to work with.\n",
    "\n",
    "Inheritance: Inheritance is a mechanism that allows a class (subclass) to inherit properties and behaviors from another class (superclass). It enables code reusability, as subclasses can extend and specialize the functionality of their parent classes.\n",
    "\n",
    "Polymorphism: Polymorphism enables objects of different classes to be treated as objects of a common superclass. This means that multiple classes can have methods with the same name but perform different actions based on their specific implementations. Polymorphism enhances flexibility and extensibility in the codebase.\n",
    "\n",
    "By achieving these goals, OOP helps developers build more organized, flexible, and maintainable software systems. It encourages code reusability, reduces redundancy, and facilitates collaborative development by enabling teams to work on different parts of the system independently."
   ]
  },
  {
   "cell_type": "markdown",
   "id": "a8d30e65",
   "metadata": {},
   "source": [
    "# 2. What is an object in Python?"
   ]
  },
  {
   "cell_type": "markdown",
   "id": "0d1d9da9",
   "metadata": {},
   "source": [
    "In Python, an object is a fundamental concept that represents a specific instance of a class. Python is an object-oriented programming language, which means that almost everything in Python is an object. \n",
    "Python objects have the following characteristics:\n",
    "\n",
    "Identity: Each object in Python has a unique identity, which is a unique identifier associated with it. You can obtain the identity of an object using the id() function.\n",
    "\n",
    "Type: Each object belongs to a specific type (also known as class), which defines the attributes and methods that the object can have and the operations it can perform.\n",
    "\n",
    "Value: The value is the actual data stored within the object. For example, in the case of an integer object, the value might be the number itself.\n",
    "\n",
    "Attributes: Objects can have attributes, which are variables that store data within the object. For instance, a list object has attributes that store the elements of the list.\n",
    "\n",
    "Methods: Objects can have methods, which are functions that can operate on the object's data. For example, a list object has methods like append(), pop(), and sort() that allow you to manipulate the list.\n",
    "\n",
    "You can also create your own custom objects by defining classes in Python. A class is a blueprint for creating objects with specific attributes and methods. When you instantiate a class (i.e., create an object of that class), it becomes an instance of that class."
   ]
  },
  {
   "cell_type": "markdown",
   "id": "8ac8f4e3",
   "metadata": {},
   "source": [
    "# 3. What is a class in Python?"
   ]
  },
  {
   "cell_type": "markdown",
   "id": "48c9037a",
   "metadata": {},
   "source": [
    "In Python, a class is a blueprint or a template for creating objects. It defines a new data type, specifying the attributes (variables) and methods (functions) that the objects of the class will have. Classes allow you to encapsulate data and behavior, promoting the principles of object-oriented programming (OOP).\n",
    "\n",
    "In simpler terms, a class serves as a blueprint that defines how an object of that class should be structured and what it can do. When you create an object from a class, it becomes an instance of that class, inheriting the attributes and methods defined in the class."
   ]
  },
  {
   "cell_type": "markdown",
   "id": "b66d387d",
   "metadata": {},
   "source": [
    "# 4. What are attributes and methods in a class?"
   ]
  },
  {
   "cell_type": "markdown",
   "id": "4101b14e",
   "metadata": {},
   "source": [
    "In object-oriented programming, a class is a blueprint for creating objects. It has two main components:\n",
    "\n",
    "Attributes: These are data members that represent the state of an object, storing information about its characteristics.\n",
    "\n",
    "    \n",
    "Methods: These are functions defined within the class that define the object's behavior, allowing it to perform actions and manipulate its attributes."
   ]
  },
  {
   "cell_type": "markdown",
   "id": "756967a3",
   "metadata": {},
   "source": [
    "# 5. What is the difference between class variables and instance variables in Python?"
   ]
  },
  {
   "cell_type": "markdown",
   "id": "fe8a34a4",
   "metadata": {},
   "source": [
    "Class Variables:\n",
    "Class variables are defined within the class but outside any method. They are shared among all instances (objects) of the class.\n",
    "They are essentially properties of the class itself, not of individual objects. Changing the value of a class variable will affect all instances of that class.\n",
    "Class variables are useful for storing data that is common to all instances of the class.\n",
    "To access class variables, you use the class name followed by the variable name or through any instance of the class."
   ]
  },
  {
   "cell_type": "code",
   "execution_count": 1,
   "id": "cb20bfb3",
   "metadata": {},
   "outputs": [],
   "source": [
    "class Car:\n",
    "    wheels = 4  # This is a class variable shared by all Car instances\n",
    "\n",
    "    def __init__(self, make, model):\n",
    "        self.make = make  # This is an instance variable\n",
    "        self.model = model  # This is an instance variable"
   ]
  },
  {
   "cell_type": "markdown",
   "id": "ba66a4ed",
   "metadata": {},
   "source": [
    "Instance Variables:\n",
    "Instance variables are specific to each instance (object) of the class. They store data that varies from one object to another.\n",
    "Each object has its own copy of instance variables, which means changes to these variables only affect the specific instance they belong to.\n",
    "Instance variables are typically initialized within the constructor method (__init__) or any other instance method of the class.\n",
    "To access instance variables, you use the self keyword within the instance methods."
   ]
  },
  {
   "cell_type": "code",
   "execution_count": 2,
   "id": "867d6350",
   "metadata": {},
   "outputs": [],
   "source": [
    "class Car:\n",
    "    def __init__(self, make, model):\n",
    "        self.make = make  # This is an instance variable specific to each Car object\n",
    "        self.model = model  # This is an instance variable specific to each Car object"
   ]
  },
  {
   "cell_type": "markdown",
   "id": "f54311f1",
   "metadata": {},
   "source": [
    "class variables are shared among all instances of the class and represent properties common to all objects of that class. On the other hand, instance variables are specific to each object and represent the unique state of each instance."
   ]
  },
  {
   "cell_type": "markdown",
   "id": "a4b22979",
   "metadata": {},
   "source": [
    "# 6. What is the purpose of the self parameter in Python class methods?"
   ]
  },
  {
   "cell_type": "markdown",
   "id": "1a9c6365",
   "metadata": {},
   "source": [
    "In Python, the self parameter in class methods refers to the instance (object) of the class that the method is being called on. It allows you to access and modify the instance's attributes and call its methods. Using self, you can work with individual instances and ensure proper data encapsulation within the class."
   ]
  },
  {
   "cell_type": "markdown",
   "id": "39a011ba",
   "metadata": {},
   "source": [
    "# 7. For a library management system, you have to design the \"Book\" class with OOP principles in mind. The “Book” class will have following attributes:\n",
    "\n",
    "a. title: Represents the title of the book.\n",
    "\n",
    "b. author: Represents the author(s) of the book.\n",
    "\n",
    "c. isbn: Represents the ISBN (International Standard Book Number) of the book.\n",
    "\n",
    "d. publication_year: Represents the year of publication of the book.\n",
    "\n",
    "e. available_copies: Represents the number of copies available for checkout.\n",
    "\n",
    "The class will also include the following methods:\n",
    "\n",
    "a. check_out(self): Decrements the available copies by one if there are copies\n",
    "available for checkout.\n",
    "\n",
    "b. return_book(self): Increments the available copies by one when a book is\n",
    "returned.\n",
    "\n",
    "c. display_book_info(self): Displays the information about the book, including its\n",
    "attributes and the number of available copies."
   ]
  },
  {
   "cell_type": "code",
   "execution_count": null,
   "id": "f066272b",
   "metadata": {},
   "outputs": [],
   "source": [
    "class Book:\n",
    "    def __init__(self, title, author, isbn, publication_year, available_copies):\n",
    "        self.title = title\n",
    "        self.author = author\n",
    "        self.isbn = isbn\n",
    "        self.publication_year = publication_year\n",
    "        self.available_copies = available_copies\n",
    "\n",
    "        \n",
    "    def check_out(self):\n",
    "        if self.available_copies > 0:\n",
    "            self.available_copies -= 1\n",
    "            print(f\"Book '{self.title}' checked out. Available copies: {self.available_copies}\")\n",
    "        else:\n",
    "            print(f\"Sorry, '{self.title}' is currently not available for checkout.\")\n",
    "            \n",
    "\n",
    "    def return_book(self):\n",
    "        self.available_copies += 1\n",
    "        print(f\"Book '{self.title}' returned. Available copies: {self.available_copies}\")\n",
    "        \n",
    "\n",
    "    def display_book_info(self):\n",
    "        print(f\"Title: {self.title}\")\n",
    "        print(f\"Author(s): {', '.join(self.author)}\")\n",
    "        print(f\"ISBN: {self.isbn}\")\n",
    "        print(f\"Publication Year: {self.publication_year}\")\n",
    "        print(f\"Available Copies: {self.available_copies}\")"
   ]
  },
  {
   "cell_type": "markdown",
   "id": "059697d9",
   "metadata": {},
   "source": [
    "# 8. For a ticket booking system, you have to design the \"Ticket\" class with OOP principles in mind. The “Ticket” class should have the following attributes:\n",
    "    \n",
    "a. ticket_id: Represents the unique identifier for the ticket.\n",
    "    \n",
    "b. event_name: Represents the name of the event.\n",
    "    \n",
    "c. event_date: Represents the date of the event.\n",
    "    \n",
    "d. venue: Represents the venue of the event.\n",
    "    \n",
    "e. seat_number: Represents the seat number associated with the ticket.\n",
    "    \n",
    "f. price: Represents the price of the ticket.\n",
    "    \n",
    "g. is_reserved: Represents the reservation status of the ticket.\n",
    "    \n",
    "The class also includes the following methods:\n",
    "    \n",
    "a. reserve_ticket(self): Marks the ticket as reserved if it is not already reserved.\n",
    "    \n",
    "b. cancel_reservation(self): Cancels the reservation of the ticket if it is already\n",
    "reserved.\n",
    "\n",
    "c. display_ticket_info(self): Displays the information about the ticket, including its\n",
    "attributes and reservation status."
   ]
  },
  {
   "cell_type": "code",
   "execution_count": 3,
   "id": "1ab75c03",
   "metadata": {},
   "outputs": [],
   "source": [
    "class Ticket:\n",
    "    def __init__(self, ticket_id, event_name, event_date, venue, seat_number, price):\n",
    "        self.ticket_id = ticket_id\n",
    "        self.event_name = event_name\n",
    "        self.event_date = event_date\n",
    "        self.venue = venue\n",
    "        self.seat_number = seat_number\n",
    "        self.price = price\n",
    "        self.is_reserved = False\n",
    "\n",
    "    def reserve_ticket(self):\n",
    "        if not self.is_reserved:\n",
    "            self.is_reserved = True\n",
    "            print(f\"Ticket {self.ticket_id} reserved successfully.\")\n",
    "        else:\n",
    "            print(f\"Ticket {self.ticket_id} is already reserved.\")\n",
    "\n",
    "    def cancel_reservation(self):\n",
    "        if self.is_reserved:\n",
    "            self.is_reserved = False\n",
    "            print(f\"Reservation for Ticket {self.ticket_id} cancelled successfully.\")\n",
    "        else:\n",
    "            print(f\"Ticket {self.ticket_id} is not reserved yet.\")\n",
    "\n",
    "    def display_ticket_info(self):\n",
    "        print(f\"Ticket ID: {self.ticket_id}\")\n",
    "        print(f\"Event Name: {self.event_name}\")\n",
    "        print(f\"Event Date: {self.event_date}\")\n",
    "        print(f\"Venue: {self.venue}\")\n",
    "        print(f\"Seat Number: {self.seat_number}\")\n",
    "        print(f\"Price: {self.price}\")\n",
    "        print(f\"Reservation Status: {'Reserved' if self.is_reserved else 'Not Reserved'}\")"
   ]
  },
  {
   "cell_type": "markdown",
   "id": "e45b85f4",
   "metadata": {},
   "source": [
    "# 9. You are creating a shopping cart for an e-commerce website. Using OOP to model the \"ShoppingCart\" functionality the class should contain following attributes and methods:\n",
    "    \n",
    "a. items: Represents the list of items in the shopping cart.\n",
    "The class also includes the following methods:\n",
    "\n",
    "a. add_item(self, item): Adds an item to the shopping cart by appending it to the\n",
    "list of items.\n",
    "\n",
    "b. remove_item(self, item): Removes an item from the shopping cart if it exists in\n",
    "the list.\n",
    "\n",
    "c. view_cart(self): Displays the items currently present in the shopping cart.\n",
    "    \n",
    "d. clear_cart(self): Clears all items from the shopping cart by reassigning an\n",
    "empty list to the items attribute."
   ]
  },
  {
   "cell_type": "code",
   "execution_count": 4,
   "id": "57019422",
   "metadata": {},
   "outputs": [],
   "source": [
    "class ShoppingCart:\n",
    "    def __init__(self):\n",
    "        self.items = []\n",
    "\n",
    "    def add_item(self, item):\n",
    "        self.items.append(item)\n",
    "        print(f\"Item '{item}' added to the shopping cart.\")\n",
    "\n",
    "    def remove_item(self, item):\n",
    "        if item in self.items:\n",
    "            self.items.remove(item)\n",
    "            print(f\"Item '{item}' removed from the shopping cart.\")\n",
    "        else:\n",
    "            print(f\"Item '{item}' is not present in the shopping cart.\")\n",
    "\n",
    "    def view_cart(self):\n",
    "        if self.items:\n",
    "            print(\"Items in the shopping cart:\")\n",
    "            for item in self.items:\n",
    "                print(f\"- {item}\")\n",
    "        else:\n",
    "            print(\"The shopping cart is empty.\")\n",
    "\n",
    "    def clear_cart(self):\n",
    "        self.items = []\n",
    "        print(\"Shopping cart cleared.\")"
   ]
  },
  {
   "cell_type": "markdown",
   "id": "653b6899",
   "metadata": {},
   "source": [
    "# 10. Imagine a school management system. You have to design the \"Student\" class using OOP concepts.The “Student” class has the following attributes:\n",
    "    \n",
    "a. name: Represents the name of the student.\n",
    "    \n",
    "b. age: Represents the age of the student.\n",
    "    \n",
    "c. grade: Represents the grade or class of the student.\n",
    "    \n",
    "d. student_id: Represents the unique identifier for the student.\n",
    "    \n",
    "e. attendance: Represents the attendance record of the student.\n",
    "    \n",
    "The class should also include the following methods:\n",
    "    \n",
    "a. update_attendance(self, date, status): Updates the attendance record of the\n",
    "    \n",
    "student for a given date with the provided status (e.g., present or absent).\n",
    "\n",
    "b. get_attendance(self): Returns the attendance record of the student.\n",
    "    \n",
    "c. get_average_attendance(self): Calculates and returns the average\n",
    "    \n",
    "attendance percentage of the student based on their attendance record."
   ]
  },
  {
   "cell_type": "code",
   "execution_count": 5,
   "id": "54b6154d",
   "metadata": {},
   "outputs": [],
   "source": [
    "class Student:\n",
    "    def __init__(self, name, age, grade, student_id):\n",
    "        self.name = name\n",
    "        self.age = age\n",
    "        self.grade = grade\n",
    "        self.student_id = student_id\n",
    "        self.attendance = {}\n",
    "\n",
    "    def update_attendance(self, date, status):\n",
    "        self.attendance[date] = status\n",
    "        print(f\"Attendance for {self.name} on {date}: {status}\")\n",
    "\n",
    "    def get_attendance(self):\n",
    "        return self.attendance\n",
    "\n",
    "    def get_average_attendance(self):\n",
    "        total_days = len(self.attendance)\n",
    "        if total_days == 0:\n",
    "            return 0.0\n",
    "\n",
    "        present_days = sum(1 for status in self.attendance.values() if status == 'present')\n",
    "        average_attendance = (present_days / total_days) * 100\n",
    "        return average_attendance"
   ]
  }
 ],
 "metadata": {
  "kernelspec": {
   "display_name": "Python 3 (ipykernel)",
   "language": "python",
   "name": "python3"
  },
  "language_info": {
   "codemirror_mode": {
    "name": "ipython",
    "version": 3
   },
   "file_extension": ".py",
   "mimetype": "text/x-python",
   "name": "python",
   "nbconvert_exporter": "python",
   "pygments_lexer": "ipython3",
   "version": "3.10.9"
  }
 },
 "nbformat": 4,
 "nbformat_minor": 5
}
