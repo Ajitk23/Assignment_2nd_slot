{
 "cells": [
  {
   "cell_type": "markdown",
   "id": "eb9814cc",
   "metadata": {},
   "source": [
    "# 1. In Python, what is the difference between a built-in function and a user-defined function? Provide an example of each."
   ]
  },
  {
   "cell_type": "markdown",
   "id": "1aed11dd",
   "metadata": {},
   "source": [
    "Built-in Fucntions are predefined functions which can be used anytime\n",
    "\n",
    "eg:len(), type() etc\n",
    "\n",
    "User defined functions are functions that are defined by the programmer."
   ]
  },
  {
   "cell_type": "code",
   "execution_count": 1,
   "id": "c3b21b3c",
   "metadata": {},
   "outputs": [
    {
     "name": "stdout",
     "output_type": "stream",
     "text": [
      "7\n"
     ]
    }
   ],
   "source": [
    "# eg:\n",
    "def my_function(num1, num2):\n",
    "    sum_result = num1 + num2\n",
    "    print(sum_result)\n",
    "\n",
    "my_function(2, 5)\n",
    "    "
   ]
  },
  {
   "cell_type": "markdown",
   "id": "7ec6e7c9",
   "metadata": {},
   "source": [
    "# 2. How can you pass arguments to a function in Python? Explain the difference between positional arguments and keyword arguments."
   ]
  },
  {
   "cell_type": "markdown",
   "id": "f173f294",
   "metadata": {},
   "source": [
    "Positional Arguments:\n",
    "\n",
    "Positional arguments are passed to a function based on their position or order. When you define a function, you specify \n",
    "the parameters it expects to receive. When you call the function, you provide the corresponding arguments in the same order. \n",
    "The values you pass are assigned to the parameters in the function definition based on their positions."
   ]
  },
  {
   "cell_type": "code",
   "execution_count": 3,
   "id": "d9b4f99d",
   "metadata": {},
   "outputs": [
    {
     "name": "stdout",
     "output_type": "stream",
     "text": [
      "8\n"
     ]
    }
   ],
   "source": [
    "def add_numbers(a, b):\n",
    "    return a + b\n",
    "\n",
    "result = add_numbers(3, 5)\n",
    "print(result)  # Output: 8"
   ]
  },
  {
   "cell_type": "markdown",
   "id": "c389889b",
   "metadata": {},
   "source": [
    "Keyword Arguments:\n",
    "    \n",
    "Keyword arguments, also known as named arguments, are passed to a function with the parameter names explicitly specified. \n",
    "Instead of relying on the position, you provide the argument along with its parameter name during the function call. \n",
    "This allows you to pass arguments in any order, as long as you specify their corresponding parameter names.\n",
    "Here's an example that demonstrates keyword arguments:"
   ]
  },
  {
   "cell_type": "code",
   "execution_count": 2,
   "id": "5d9813a6",
   "metadata": {},
   "outputs": [
    {
     "name": "stdout",
     "output_type": "stream",
     "text": [
      "Hello, Alice! You are 25 years old.\n"
     ]
    }
   ],
   "source": [
    "def greet(name, age):\n",
    "    print(\"Hello, \" + name + \"! You are \" + str(age) + \" years old.\")\n",
    "\n",
    "greet(name=\"Alice\", age=25)"
   ]
  },
  {
   "cell_type": "markdown",
   "id": "775922ed",
   "metadata": {},
   "source": [
    "# 3. What is the purpose of the return statement in a function? Can a function have multiple return statements? Explain with an example."
   ]
  },
  {
   "cell_type": "markdown",
   "id": "c17e84a7",
   "metadata": {},
   "source": [
    "The return statement in a function is used to specify the value that the function should produce or the result it \n",
    "should return when it is called. When a return statement is encountered in a function, the function immediately exits, and \n",
    "the value specified in the return statement is passed back to the caller.\n",
    "\n",
    "A function can have multiple return statements, and the choice of which return statement to execute depends on the conditions \n",
    "within the function. Once a return statement is encountered, the function exits, and no further code in the function is executed."
   ]
  },
  {
   "cell_type": "code",
   "execution_count": 7,
   "id": "a902f2f5",
   "metadata": {},
   "outputs": [
    {
     "name": "stdout",
     "output_type": "stream",
     "text": [
      "True\n",
      "False\n"
     ]
    }
   ],
   "source": [
    "def is_positive(number):\n",
    "    if number > 0:\n",
    "        return True\n",
    "    else:\n",
    "        return False\n",
    "\n",
    "num1 = 10\n",
    "result1 = is_positive(num1)\n",
    "print(result1)  # Output: True\n",
    "\n",
    "num2 = -5\n",
    "result2 = is_positive(num2)\n",
    "print(result2)  # Output: False"
   ]
  },
  {
   "cell_type": "markdown",
   "id": "3375ff69",
   "metadata": {},
   "source": [
    "# 4. What are lambda functions in Python? How are they different from regular functions? Provide anexample where a lambda function can be useful."
   ]
  },
  {
   "cell_type": "markdown",
   "id": "f1168c28",
   "metadata": {},
   "source": [
    "Lambda functions, also known as anonymous functions, are small, single-expression functions in Python that do not require a \n",
    "def statement or a named function. They are created using the lambda keyword, followed by a list of arguments, a colon, and an \n",
    "expression. Lambda functions are typically used when you need a simple, one-time function without the need for defining a \n",
    "formal function using def."
   ]
  },
  {
   "cell_type": "code",
   "execution_count": 8,
   "id": "cf284956",
   "metadata": {},
   "outputs": [
    {
     "name": "stdout",
     "output_type": "stream",
     "text": [
      "15\n"
     ]
    }
   ],
   "source": [
    "multiply = lambda x, y: x * y\n",
    "print(multiply(3, 5))\n"
   ]
  },
  {
   "cell_type": "markdown",
   "id": "3baa6428",
   "metadata": {},
   "source": [
    "# 5. How does the concept of \"scope\" apply to functions in Python? Explain the difference between local scope and global scope."
   ]
  },
  {
   "cell_type": "markdown",
   "id": "673722be",
   "metadata": {},
   "source": [
    "In Python, scope refers to the visibility and accessibility of variables within a program. \n",
    "It determines where and how variables can be accessed and modified.\n",
    "\n",
    "Local Scope:\n",
    "    When a variable is defined inside a function, it has local scope. It means that the variable is only accessible within \n",
    "that specific function. It cannot be accessed from outside the function or from other functions. \n",
    "Local variables are created when the function is called and destroyed when the function completes its execution. \n",
    "Here's an example:"
   ]
  },
  {
   "cell_type": "code",
   "execution_count": 9,
   "id": "ed152f40",
   "metadata": {},
   "outputs": [
    {
     "name": "stdout",
     "output_type": "stream",
     "text": [
      "10\n"
     ]
    },
    {
     "ename": "NameError",
     "evalue": "name 'x' is not defined",
     "output_type": "error",
     "traceback": [
      "\u001b[1;31m---------------------------------------------------------------------------\u001b[0m",
      "\u001b[1;31mNameError\u001b[0m                                 Traceback (most recent call last)",
      "Cell \u001b[1;32mIn[9], line 6\u001b[0m\n\u001b[0;32m      3\u001b[0m     \u001b[38;5;28mprint\u001b[39m(x)\n\u001b[0;32m      5\u001b[0m my_function()  \u001b[38;5;66;03m# Output: 10\u001b[39;00m\n\u001b[1;32m----> 6\u001b[0m \u001b[38;5;28mprint\u001b[39m(\u001b[43mx\u001b[49m)\n",
      "\u001b[1;31mNameError\u001b[0m: name 'x' is not defined"
     ]
    }
   ],
   "source": [
    "def my_function():\n",
    "    x = 10  # local variable\n",
    "    print(x)\n",
    "\n",
    "my_function()  # Output: 10\n",
    "print(x)  # Error: NameError: name 'x' is not defined"
   ]
  },
  {
   "cell_type": "markdown",
   "id": "38268690",
   "metadata": {},
   "source": [
    "Global Scope:\n",
    "Variables defined outside of any function have global scope. They can be accessed from any part of the code, including \n",
    "inside functions. Global variables remain in memory throughout the program's execution. Here's an example:"
   ]
  },
  {
   "cell_type": "code",
   "execution_count": 10,
   "id": "c73ed30b",
   "metadata": {},
   "outputs": [
    {
     "name": "stdout",
     "output_type": "stream",
     "text": [
      "10\n",
      "10\n"
     ]
    }
   ],
   "source": [
    "x = 10  # global variable\n",
    "\n",
    "def my_function():\n",
    "    print(x)\n",
    "\n",
    "my_function()  # Output: 10\n",
    "print(x)  # Output: 10"
   ]
  },
  {
   "cell_type": "markdown",
   "id": "09ea4608",
   "metadata": {},
   "source": [
    "# 6. How can you use the \"return\" statement in a Python function to return multiple values?"
   ]
  },
  {
   "cell_type": "markdown",
   "id": "4e6b7e1f",
   "metadata": {},
   "source": [
    "In Python, you can use the return statement in a function to return multiple values by separating them with commas or by \n",
    "returning a data structure that contains multiple values, such as a tuple or a list. Here are a few examples:\n",
    "\n",
    "Returning multiple values as a tuple:"
   ]
  },
  {
   "cell_type": "code",
   "execution_count": 11,
   "id": "73e98582",
   "metadata": {},
   "outputs": [
    {
     "name": "stdout",
     "output_type": "stream",
     "text": [
      "(10, 20)\n",
      "10\n",
      "20\n"
     ]
    }
   ],
   "source": [
    "def get_coordinates():\n",
    "    x = 10\n",
    "    y = 20\n",
    "    return x, y\n",
    "\n",
    "result = get_coordinates()\n",
    "print(result)  # Output: (10, 20)\n",
    "x_value, y_value = get_coordinates()\n",
    "print(x_value)  # Output: 10\n",
    "print(y_value)  # Output: 20"
   ]
  },
  {
   "cell_type": "markdown",
   "id": "36c720e4",
   "metadata": {},
   "source": [
    "# 7. What is the difference between the \"pass by value\" and \"pass by reference\" concepts when it comes to function arguments in Python?"
   ]
  },
  {
   "cell_type": "markdown",
   "id": "9211706a",
   "metadata": {},
   "source": [
    "In Python, the concepts of \"pass by value\" and \"pass by reference\" can be a bit misleading because the behavior actually \n",
    "depends on the type of the object being passed as an argument. Python uses a mechanism called \"pass by object reference\" to \n",
    "handle function arguments.\n",
    "\n",
    "When you pass an object as an argument to a function, a reference to the object is created. This reference behaves like \n",
    "a pointer to the actual object in memory. The behavior of the function depends on how the object is mutable or immutable.\n",
    "\n",
    "Pass by Value (Immutable objects):\n",
    "For immutable objects such as numbers, strings, and tuples, the function receives a copy of the value. Any modifications made \n",
    "to the parameter inside the function do not affect the original object."
   ]
  },
  {
   "cell_type": "code",
   "execution_count": 12,
   "id": "e986a8f4",
   "metadata": {},
   "outputs": [
    {
     "name": "stdout",
     "output_type": "stream",
     "text": [
      "Inside function: 15\n",
      "Outside function: 5\n"
     ]
    }
   ],
   "source": [
    "def modify_value(x):\n",
    "    x += 10\n",
    "    print(\"Inside function:\", x)\n",
    "\n",
    "value = 5\n",
    "modify_value(value)\n",
    "print(\"Outside function:\", value)"
   ]
  },
  {
   "cell_type": "markdown",
   "id": "07fce773",
   "metadata": {},
   "source": [
    "Pass by Object Reference (Mutable objects):\n",
    "For mutable objects such as lists, dictionaries, and user-defined objects, the function receives a reference to the same \n",
    "object. Modifications made to the parameter inside the function affect the original object."
   ]
  },
  {
   "cell_type": "code",
   "execution_count": 13,
   "id": "7e19bbba",
   "metadata": {},
   "outputs": [
    {
     "name": "stdout",
     "output_type": "stream",
     "text": [
      "Inside function: [1, 2, 3, 4]\n",
      "Outside function: [1, 2, 3, 4]\n"
     ]
    }
   ],
   "source": [
    "def modify_list(lst):\n",
    "    lst.append(4)\n",
    "    print(\"Inside function:\", lst)\n",
    "\n",
    "my_list = [1, 2, 3]\n",
    "modify_list(my_list)\n",
    "print(\"Outside function:\", my_list)"
   ]
  },
  {
   "cell_type": "markdown",
   "id": "1cb58417",
   "metadata": {},
   "source": [
    "# 8. Create a function that can intake integer or decimal value and do following operations:\n",
    "a. Logarithmic function (log x)\n",
    "b. Exponential function (exp(x))\n",
    "c. Power function with base 2 (2x)\n",
    "d. Square root"
   ]
  },
  {
   "cell_type": "code",
   "execution_count": 15,
   "id": "306bcccf",
   "metadata": {},
   "outputs": [],
   "source": [
    "import math\n",
    "\n",
    "def perform_operations(value):\n",
    "    logarithmic = math.log(value)\n",
    "    exponential = math.exp(value)\n",
    "    power = math.pow(2, value)\n",
    "    square_root = math.sqrt(value)\n",
    "    \n",
    "    print(\"Logarithmic function (log x):\", logarithmic)\n",
    "    print(\"Exponential function (exp(x)):\", exponential)\n",
    "    print(\"Power function with base 2 (2^x):\", power)\n",
    "    print(\"Square root:\", square_root)"
   ]
  },
  {
   "cell_type": "markdown",
   "id": "ad4bc0fe",
   "metadata": {},
   "source": [
    "logarithmic stores the result of applying the natural logarithm function (math.log()) to the value.\n",
    "\n",
    "exponential stores the result of applying the exponential function (math.exp()) to the value.\n",
    "\n",
    "power stores the result of raising 2 to the power of the value using the math.pow() function.\n",
    "\n",
    "square_root stores the square root of the value using the math.sqrt() function.\n",
    "\n",
    "Finally, we print out the results of each operation."
   ]
  },
  {
   "cell_type": "code",
   "execution_count": 16,
   "id": "17c59d82",
   "metadata": {},
   "outputs": [
    {
     "name": "stdout",
     "output_type": "stream",
     "text": [
      "Logarithmic function (log x): 1.0986122886681098\n",
      "Exponential function (exp(x)): 20.085536923187668\n",
      "Power function with base 2 (2^x): 8.0\n",
      "Square root: 1.7320508075688772\n"
     ]
    }
   ],
   "source": [
    "perform_operations(3)"
   ]
  },
  {
   "cell_type": "markdown",
   "id": "459a9805",
   "metadata": {},
   "source": [
    "# 9. Create a function that takes a full name as an argument and returns first name and last name."
   ]
  },
  {
   "cell_type": "code",
   "execution_count": 33,
   "id": "ebf9784e",
   "metadata": {},
   "outputs": [
    {
     "data": {
      "text/plain": [
       "('Ajit', 'Sahoo')"
      ]
     },
     "execution_count": 33,
     "metadata": {},
     "output_type": "execute_result"
    }
   ],
   "source": [
    "def split_full_name(full_name):\n",
    "    names = full_name.split()\n",
    "    first_name = names[0]\n",
    "    last_name = ' '.join(names[1:]) if len(names) > 1 else ''\n",
    "    return first_name, last_name\n",
    "\n",
    "split_full_name(\"Ajit Sahoo\")"
   ]
  }
 ],
 "metadata": {
  "kernelspec": {
   "display_name": "Python 3 (ipykernel)",
   "language": "python",
   "name": "python3"
  },
  "language_info": {
   "codemirror_mode": {
    "name": "ipython",
    "version": 3
   },
   "file_extension": ".py",
   "mimetype": "text/x-python",
   "name": "python",
   "nbconvert_exporter": "python",
   "pygments_lexer": "ipython3",
   "version": "3.10.9"
  }
 },
 "nbformat": 4,
 "nbformat_minor": 5
}
