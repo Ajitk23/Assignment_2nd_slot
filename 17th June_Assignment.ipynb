{
 "cells": [
  {
   "cell_type": "markdown",
   "id": "009fae50",
   "metadata": {},
   "source": [
    "# 1. What is the role of try and exception block?"
   ]
  },
  {
   "cell_type": "markdown",
   "id": "f4470aaf",
   "metadata": {},
   "source": [
    "The try-except block is a fundamental construct in many programming languages, including Python, to handle and manage errors \n",
    "or exceptions that may occur during program execution. It allows you to write code that attempts to execute certain statements \n",
    "and provides a mechanism to catch and handle any exceptions that may arise."
   ]
  },
  {
   "cell_type": "code",
   "execution_count": 2,
   "id": "62e08443",
   "metadata": {},
   "outputs": [
    {
     "name": "stdout",
     "output_type": "stream",
     "text": [
      "Enter a number: 0\n",
      "Error: Cannot divide by zero.\n"
     ]
    }
   ],
   "source": [
    "try:\n",
    "    number = int(input(\"Enter a number: \"))\n",
    "    result = 10 / number\n",
    "    print(\"The result is:\", result)\n",
    "\n",
    "except ZeroDivisionError:\n",
    "    print(\"Error: Cannot divide by zero.\")\n",
    "\n",
    "except ValueError:\n",
    "    print(\"Error: Invalid input. Please enter a valid number.\")"
   ]
  },
  {
   "cell_type": "markdown",
   "id": "64210a8e",
   "metadata": {},
   "source": [
    "# 2. What is the syntax for a basic try-except block?"
   ]
  },
  {
   "cell_type": "markdown",
   "id": "1f82bd63",
   "metadata": {},
   "source": [
    "The try block contains the code that you anticipate may raise an exception.\n",
    "If an exception occurs within the try block, the program flow jumps to the corresponding except block.\n",
    "After the except keyword, you specify the type of exception that the except block can handle.\n",
    "You can have multiple except blocks after a try block to handle different types of exceptions. Alternatively, you can have a \n",
    "single except block without specifying the exception type to catch any type of exception.\n",
    "The code within the except block is executed if the exception raised matches the specified type.\n",
    "The else block is optional. It contains code that executes if no exception occurs in the try block. \n",
    "It is typically used for code that should run only when the try block is successful.\n",
    "The finally block is also optional. It contains code that always executes, regardless of whether an exception occurred or not. \n",
    "It is commonly used for cleanup tasks or releasing resources."
   ]
  },
  {
   "cell_type": "code",
   "execution_count": null,
   "id": "d7ca2823",
   "metadata": {},
   "outputs": [],
   "source": [
    "try:\n",
    "    # Code that may raise an exception\n",
    "    # ...\n",
    "except ExceptionType1:\n",
    "    # Code to handle the specific exception type 1\n",
    "    # ...\n",
    "except ExceptionType2:\n",
    "    # Code to handle the specific exception type 2\n",
    "    # ...\n",
    "except:\n",
    "    # Code to handle any other exception not caught by the specific types\n",
    "    # ..."
   ]
  },
  {
   "cell_type": "markdown",
   "id": "535cf22e",
   "metadata": {},
   "source": [
    "# 3. What happens if an exception occurs inside a try block and there is no matching except block?"
   ]
  },
  {
   "cell_type": "markdown",
   "id": "b97c163a",
   "metadata": {},
   "source": [
    "If an exception occurs inside a try block and there is no matching except block to handle that specific exception type, the \n",
    "exception will propagate up the call stack. This means that Python will continue to look for a suitable except block in the \n",
    "calling function and its callers.\n",
    "\n",
    "If Python reaches the top of the call stack (the highest-level function call), and still no matching except block is found, the \n",
    "default behavior is that the program will terminate with an error message that includes information about the unhandled \n",
    "exception. This error message typically includes the exception type, a description of the error, and the line number where the \n",
    "exception occurred."
   ]
  },
  {
   "cell_type": "code",
   "execution_count": 2,
   "id": "abdb178d",
   "metadata": {},
   "outputs": [
    {
     "ename": "ZeroDivisionError",
     "evalue": "division by zero",
     "output_type": "error",
     "traceback": [
      "\u001b[1;31m---------------------------------------------------------------------------\u001b[0m",
      "\u001b[1;31mZeroDivisionError\u001b[0m                         Traceback (most recent call last)",
      "Cell \u001b[1;32mIn[2], line 8\u001b[0m\n\u001b[0;32m      5\u001b[0m         \u001b[38;5;28mprint\u001b[39m(\u001b[38;5;124m\"\u001b[39m\u001b[38;5;124mThis will never be executed since ValueError is not raised here.\u001b[39m\u001b[38;5;124m\"\u001b[39m)\n\u001b[0;32m      7\u001b[0m \u001b[38;5;66;03m# Call the function with invalid arguments to trigger an exception\u001b[39;00m\n\u001b[1;32m----> 8\u001b[0m \u001b[43mdivide\u001b[49m\u001b[43m(\u001b[49m\u001b[38;5;241;43m10\u001b[39;49m\u001b[43m,\u001b[49m\u001b[43m \u001b[49m\u001b[38;5;241;43m0\u001b[39;49m\u001b[43m)\u001b[49m\n",
      "Cell \u001b[1;32mIn[2], line 3\u001b[0m, in \u001b[0;36mdivide\u001b[1;34m(a, b)\u001b[0m\n\u001b[0;32m      1\u001b[0m \u001b[38;5;28;01mdef\u001b[39;00m \u001b[38;5;21mdivide\u001b[39m(a, b):\n\u001b[0;32m      2\u001b[0m     \u001b[38;5;28;01mtry\u001b[39;00m:\n\u001b[1;32m----> 3\u001b[0m         result \u001b[38;5;241m=\u001b[39m \u001b[43ma\u001b[49m\u001b[43m \u001b[49m\u001b[38;5;241;43m/\u001b[39;49m\u001b[43m \u001b[49m\u001b[43mb\u001b[49m\n\u001b[0;32m      4\u001b[0m     \u001b[38;5;28;01mexcept\u001b[39;00m \u001b[38;5;167;01mValueError\u001b[39;00m:\n\u001b[0;32m      5\u001b[0m         \u001b[38;5;28mprint\u001b[39m(\u001b[38;5;124m\"\u001b[39m\u001b[38;5;124mThis will never be executed since ValueError is not raised here.\u001b[39m\u001b[38;5;124m\"\u001b[39m)\n",
      "\u001b[1;31mZeroDivisionError\u001b[0m: division by zero"
     ]
    }
   ],
   "source": [
    "def divide(a, b):\n",
    "    try:\n",
    "        result = a / b\n",
    "    except ValueError:\n",
    "        print(\"This will never be executed since ValueError is not raised here.\")\n",
    "\n",
    "# Call the function with invalid arguments to trigger an exception\n",
    "divide(10, 0)"
   ]
  },
  {
   "cell_type": "markdown",
   "id": "1915d098",
   "metadata": {},
   "source": [
    "# 4. What is the difference between using a bare except block and specifying a specific exception type?"
   ]
  },
  {
   "cell_type": "markdown",
   "id": "8bcca209",
   "metadata": {},
   "source": [
    "Using specific exception types allows for more precise and targeted exception handling, while a bare except block provides a \n",
    "catch-all mechanism that should be used sparingly and with caution. It's generally recommended to handle specific exceptions \n",
    "whenever possible and use a generic except block as a fallback for unexpected exceptions."
   ]
  },
  {
   "cell_type": "code",
   "execution_count": null,
   "id": "642d1456",
   "metadata": {},
   "outputs": [],
   "source": [
    "def divide(a, b):\n",
    "    try:\n",
    "        result = a / b\n",
    "        print(\"Result:\", result)\n",
    "    except ZeroDivisionError:\n",
    "        print(\"Error: Cannot divide by zero.\")\n",
    "    except ValueError:\n",
    "        print(\"Error: Invalid input value.\")\n",
    "    except:\n",
    "        print(\"An unexpected error occurred.\")\n",
    "\n",
    "# Example 1: Specific exception type\n",
    "divide(10, 0)  # Raises ZeroDivisionError\n",
    "\n",
    "# Example 2: Specific exception type\n",
    "divide(10, '2')  # Raises TypeError\n",
    "\n",
    "# Example 3: Bare except block\n",
    "divide(10, 5)  # No exception raised"
   ]
  },
  {
   "cell_type": "markdown",
   "id": "2a77f5e3",
   "metadata": {},
   "source": [
    "# 5. Can you have nested try-except blocks in Python? If yes, then give an example."
   ]
  },
  {
   "cell_type": "markdown",
   "id": "2a0778c0",
   "metadata": {},
   "source": [
    "Yes, it is possible to have nested try-except blocks in Python. Nested try-except blocks allow you to handle different levels \n",
    "of exceptions at different scopes within your code. \n",
    "\n",
    "Here's an example to illustrate this:"
   ]
  },
  {
   "cell_type": "code",
   "execution_count": 5,
   "id": "d4225521",
   "metadata": {},
   "outputs": [
    {
     "name": "stdout",
     "output_type": "stream",
     "text": [
      "Enter a dividend: 3\n",
      "Enter a divisor: a\n",
      "Error: Invalid input. Please enter integers.\n"
     ]
    }
   ],
   "source": [
    "try:\n",
    "    # Outer try-except block\n",
    "    try:\n",
    "        # Inner try-except block\n",
    "        num1 = int(input(\"Enter a dividend: \"))\n",
    "        num2 = int(input(\"Enter a divisor: \"))\n",
    "        result = num1 / num2\n",
    "        print(\"Result:\", result)\n",
    "    except ZeroDivisionError:\n",
    "        print(\"Error: Cannot divide by zero.\")\n",
    "    except ValueError:\n",
    "        print(\"Error: Invalid input. Please enter integers.\")\n",
    "except Exception as e:\n",
    "    print(\"An error occurred:\", str(e))"
   ]
  },
  {
   "cell_type": "markdown",
   "id": "6fc301ef",
   "metadata": {},
   "source": [
    "# 6. Can we use multiple exception blocks, if yes then give an example."
   ]
  },
  {
   "cell_type": "markdown",
   "id": "164c9263",
   "metadata": {},
   "source": [
    "Yes, it is possible to use multiple except blocks to handle different types of exceptions in Python. This allows you to specify \n",
    "different exception handlers for different types of errors. \n",
    "\n",
    "Here's an example:"
   ]
  },
  {
   "cell_type": "code",
   "execution_count": 7,
   "id": "699d2930",
   "metadata": {},
   "outputs": [
    {
     "name": "stdout",
     "output_type": "stream",
     "text": [
      "Enter a number: 5\n",
      "Enter another number: a\n",
      "Error: Invalid input. Please enter integers.\n"
     ]
    }
   ],
   "source": [
    "try:\n",
    "    num1 = int(input(\"Enter a number: \"))\n",
    "    num2 = int(input(\"Enter another number: \"))\n",
    "    result = num1 / num2\n",
    "    print(\"Result:\", result)\n",
    "except ValueError:\n",
    "    print(\"Error: Invalid input. Please enter integers.\")\n",
    "except ZeroDivisionError:\n",
    "    print(\"Error: Cannot divide by zero.\")\n",
    "except Exception as e:\n",
    "    print(\"An error occurred:\", str(e))"
   ]
  },
  {
   "cell_type": "markdown",
   "id": "94d01991",
   "metadata": {},
   "source": [
    "# 7. Write the reason due to which following errors are raised:\n",
    "a. EOFError\n",
    "\n",
    "b. FloatingPointError\n",
    "\n",
    "c. IndexError\n",
    "\n",
    "d. MemoryError\n",
    "\n",
    "e. OverflowError\n",
    "\n",
    "f. TabError\n",
    "\n",
    "g. ValueError"
   ]
  },
  {
   "cell_type": "markdown",
   "id": "9f8fa5da",
   "metadata": {},
   "source": [
    "Here are the reasons due to which the following errors are raised:\n",
    "\n",
    "a. EOFError: This error occurs when the end of a file or input stream is reached unexpectedly before the expected data is read. \n",
    "    It typically happens when an input operation tries to read beyond the end of a file or when the input stream is closed.\n",
    "\n",
    "b. FloatingPointError: This error is raised when a floating-point operation fails to produce a valid result. \n",
    "    It can occur due to various reasons, such as dividing by zero, taking the square root of a negative number, or performing \n",
    "    an invalid mathematical operation on floating-point numbers.\n",
    "\n",
    "c. IndexError: This error is raised when you try to access an element of a sequence (such as a list or a string) using an \n",
    "    invalid index. It typically occurs when the index is out of range, meaning it is either negative or greater than or equal \n",
    "    to the length of the sequence.\n",
    "\n",
    "d. MemoryError: This error occurs when a program cannot allocate enough memory to perform an operation. It happens when the \n",
    "    system does not have enough available memory to fulfill a memory allocation request made by the program.\n",
    "\n",
    "e. OverflowError: This error is raised when the result of an arithmetic operation exceeds the maximum representable value for a \n",
    "    numeric type. It typically happens when performing calculations with integers or floating-point numbers that are too large \n",
    "    to be represented within the available range.\n",
    "\n",
    "f. TabError: This error occurs when the indentation in a Python code block is not consistent and does not conform to the \n",
    "    indentation rules defined by Python. It is commonly raised when mixing tabs and spaces for indentation or when the \n",
    "    indentation levels are not aligned properly.\n",
    "\n",
    "g. ValueError: This error is raised when a function receives an argument of the correct type but with an invalid value. \n",
    "    It can occur in various situations, such as when trying to convert a string to a numeric type, but the string does not \n",
    "    represent a valid number, or when using a built-in function that expects a certain value range, but the provided value is \n",
    "    outside that range."
   ]
  },
  {
   "cell_type": "markdown",
   "id": "492ead2e",
   "metadata": {},
   "source": [
    "# 8. Write code for the following given scenario and add try-exception block to it.\n",
    "a. Program to divide two numbers\n",
    "\n",
    "b. Program to convert a string to an integer\n",
    "\n",
    "c. Program to access an element in a list\n",
    "\n",
    "d. Program to handle a specific exception\n",
    "\n",
    "e. Program to handle any exception"
   ]
  },
  {
   "cell_type": "markdown",
   "id": "4de7dfb1",
   "metadata": {},
   "source": [
    "a. Program to divide two numbers:"
   ]
  },
  {
   "cell_type": "code",
   "execution_count": 8,
   "id": "aa3778ea",
   "metadata": {},
   "outputs": [
    {
     "name": "stdout",
     "output_type": "stream",
     "text": [
      "Enter a dividend: 4\n",
      "Enter a divisor: 0\n",
      "Error: Cannot divide by zero.\n"
     ]
    }
   ],
   "source": [
    "try:\n",
    "    num1 = float(input(\"Enter a dividend: \"))\n",
    "    num2 = float(input(\"Enter a divisor: \"))\n",
    "    result = num1 / num2\n",
    "    print(\"Result:\", result)\n",
    "except ZeroDivisionError:\n",
    "    print(\"Error: Cannot divide by zero.\")\n",
    "except Exception as e:\n",
    "    print(\"An error occurred:\", str(e))"
   ]
  },
  {
   "cell_type": "code",
   "execution_count": 9,
   "id": "3fd75c45",
   "metadata": {},
   "outputs": [
    {
     "name": "stdout",
     "output_type": "stream",
     "text": [
      "Enter a number: 3\n",
      "Converted number: 3\n"
     ]
    }
   ],
   "source": [
    "# b. Program to convert a string to an integer\n",
    "try:\n",
    "    num_str = input(\"Enter a number: \")\n",
    "    num = int(num_str)\n",
    "    print(\"Converted number:\", num)\n",
    "except ValueError:\n",
    "    print(\"Error: Invalid input. Please enter a valid integer.\")\n",
    "except Exception as e:\n",
    "    print(\"An error occurred:\", str(e))"
   ]
  },
  {
   "cell_type": "code",
   "execution_count": null,
   "id": "c9761542",
   "metadata": {},
   "outputs": [],
   "source": [
    "# c. Program to access an element in a list:\n",
    "try:\n",
    "    my_list = [1, 2, 3, 4, 5]\n",
    "    index = int(input(\"Enter an index: \"))\n",
    "    element = my_list[index]\n",
    "    print(\"Element at index\", index, \":\", element)\n",
    "except IndexError:\n",
    "    print(\"Error: Invalid index. The list does not have an element at the specified index.\")\n",
    "except Exception as e:\n",
    "    print(\"An error occurred:\", str(e))"
   ]
  },
  {
   "cell_type": "code",
   "execution_count": null,
   "id": "37588e27",
   "metadata": {},
   "outputs": [],
   "source": [
    "# d. Program to handle a specific exception:\n",
    "try:\n",
    "    num1 = int(input(\"Enter a number: \"))\n",
    "    num2 = int(input(\"Enter another number: \"))\n",
    "    result = num1 / num2\n",
    "    print(\"Result:\", result)\n",
    "except ValueError:\n",
    "    print(\"Error: Invalid input. Please enter integers.\")\n",
    "except ZeroDivisionError:\n",
    "    print(\"Error: Cannot divide by zero.\")\n",
    "except Exception as e:\n",
    "    print(\"An error occurred:\", str(e))"
   ]
  },
  {
   "cell_type": "code",
   "execution_count": null,
   "id": "936246a4",
   "metadata": {},
   "outputs": [],
   "source": [
    "# e. Program to handle any exception:\n",
    "try:\n",
    "    # Your code here\n",
    "except Exception as e:\n",
    "    print(\"An error occurred:\", str(e))"
   ]
  }
 ],
 "metadata": {
  "kernelspec": {
   "display_name": "Python 3 (ipykernel)",
   "language": "python",
   "name": "python3"
  },
  "language_info": {
   "codemirror_mode": {
    "name": "ipython",
    "version": 3
   },
   "file_extension": ".py",
   "mimetype": "text/x-python",
   "name": "python",
   "nbconvert_exporter": "python",
   "pygments_lexer": "ipython3",
   "version": "3.10.9"
  }
 },
 "nbformat": 4,
 "nbformat_minor": 5
}
